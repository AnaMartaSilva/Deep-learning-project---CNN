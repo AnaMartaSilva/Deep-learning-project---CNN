{
 "cells": [
  {
   "cell_type": "markdown",
   "metadata": {
    "id": "7VsY8M4nlrGe"
   },
   "source": [
    "# Deep Learning Project\n",
    "## Mask detection\n",
    "\n",
    "Group members:\n",
    "- Lorenzo Pigozzi\t--- m20200745\n",
    "- Marta\n",
    "- Gustavo\n",
    "- Salim\n",
    "\n",
    "\n"
   ]
  },
  {
   "cell_type": "markdown",
   "metadata": {
    "id": "ujYp8uilmSD1"
   },
   "source": [
    "### Steps\n",
    "1.\tImporting data and setting the directions \n",
    "2.\tBrief data preprocessing       \n",
    "3.\tModel architecture \n",
    "4.  Model assessment      \n",
    "5.  Deployment"
   ]
  },
  {
   "cell_type": "markdown",
   "metadata": {
    "id": "witmie_SnYza"
   },
   "source": [
    "### 1. Importing libraries and setting the directions <a class=\"anchor\" id=\"1\"></a>"
   ]
  },
  {
   "cell_type": "code",
   "execution_count": 70,
   "metadata": {
    "id": "exD3P8mzl8Ji"
   },
   "outputs": [],
   "source": [
    "# importing needed libraries\n",
    "#%tensorflow_version 1.x\n",
    "import tensorflow\n",
    "import pandas as pd\n",
    "import numpy as np\n",
    "import keras\n",
    "import os, shutil\n",
    "import io\n",
    "\n",
    "\n",
    "# keras\n",
    "from keras.models import Sequential\n",
    "from keras.layers import Conv2D\n",
    "from keras.layers import MaxPooling2D\n",
    "from keras.layers import Flatten\n",
    "from keras.layers import Dense\n",
    "from keras.layers import Dropout\n",
    "from keras.preprocessing.image import ImageDataGenerator\n",
    "from keras import optimizers\n",
    "from keras import callbacks \n",
    "\n",
    "# sklearn\n",
    "from sklearn.metrics import classification_report, confusion_matrix\n",
    "\n",
    "# matplotlib\n",
    "import matplotlib.pyplot as plt"
   ]
  },
  {
   "cell_type": "markdown",
   "metadata": {},
   "source": [
    "Directions Google Colab"
   ]
  },
  {
   "cell_type": "code",
   "execution_count": 2,
   "metadata": {
    "colab": {
     "base_uri": "https://localhost:8080/"
    },
    "executionInfo": {
     "elapsed": 30565,
     "status": "ok",
     "timestamp": 1616104692534,
     "user": {
      "displayName": "ana marta silva",
      "photoUrl": "",
      "userId": "06374727522975360903"
     },
     "user_tz": 0
    },
    "id": "EY7xQ9QYRjD4",
    "outputId": "83007205-e81b-491d-9975-2ac01590e0f6"
   },
   "outputs": [],
   "source": [
    "\n",
    "# # for downloading the pictures\n",
    "# from google.colab import drive\n",
    "# drive.mount('/content/gdrive')\n",
    "# !ls '/content/gdrive'  # take a look at the Google Drive content"
   ]
  },
  {
   "cell_type": "code",
   "execution_count": 3,
   "metadata": {
    "id": "u-B_cC56k4b3"
   },
   "outputs": [],
   "source": [
    "# ######## defining the paths\n",
    "# original_masks = \"gdrive/MyDrive/Project Deeplearning/Pics_with_masks/withMaskDataset/withMaskDataset/\"\n",
    "# original_faces = \"gdrive/MyDrive/Project Deeplearning/Images/\""
   ]
  },
  {
   "cell_type": "code",
   "execution_count": 4,
   "metadata": {
    "id": "LHZ_RAJhZMqa"
   },
   "outputs": [],
   "source": [
    "# # !ls /content/gdrive/MyDrive/Project_Deeplearning\n",
    "# base_dir = 'gdrive/MyDrive/Project Deeplearning/'\n",
    "\n",
    "# # creationof the folder\n",
    "# # os.mkdir(train_dir)\n",
    "# # setting the direction of the train\n",
    "# train_dir = os.path.join(base_dir, 'train')\n",
    "\n",
    "# # creationof the folder\n",
    "# # os.mkdir(validation_dir)\n",
    "# # setting the direction of the train\n",
    "# validation_dir=os.path.join(base_dir, 'validation')\n",
    "\n",
    "# # creationof the folder\n",
    "# # os.mkdir(test_dir)\n",
    "# # setting the direction of the train\n",
    "# test_dir=os.path.join(base_dir, 'test')"
   ]
  },
  {
   "cell_type": "code",
   "execution_count": 5,
   "metadata": {
    "id": "k-0i2BXld-KM"
   },
   "outputs": [],
   "source": [
    "# train_masks_dir=os.path.join(train_dir, 'masks')\n",
    "# # os.mkdir(train_masks_dir)\n",
    "# train_no_masks_dir=os.path.join(train_dir, 'no_masks')\n",
    "# # os.mkdir(train_no_masks_dir)\n",
    "\n",
    "# validation_masks_dir=os.path.join(validation_dir, 'masks')\n",
    "# # os.mkdir(validation_masks_dir)\n",
    "# validation_no_masks_dir=os.path.join(validation_dir, 'no_masks')\n",
    "# # os.mkdir(validation_no_masks_dir)\n",
    "\n",
    "# test_masks_dir=os.path.join(test_dir, 'masks')\n",
    "# # os.mkdir(test_masks_dir)\n",
    "# test_no_masks_dir=os.path.join(test_dir, 'no_masks')\n",
    "# # os.mkdir(test_no_masks_dir)"
   ]
  },
  {
   "cell_type": "code",
   "execution_count": 6,
   "metadata": {
    "id": "b6FDR_J5fH0s"
   },
   "outputs": [],
   "source": [
    "#### Splitting the images in the folders Train, Validation and Test\n",
    "\n",
    "## Train = 70, Val 15, Test 15\n",
    "\n",
    "#fnames = ['Masks{}.png'.format(i) for i in range(0,989)]\n",
    "#for fname in fnames:\n",
    "#  src=os.path.join(original_masks, fname)\n",
    "#  dst=os.path.join(train_masks_dir, fname)\n",
    "#  shutil.copyfile(src,dst)\n",
    "\n",
    "#fnames = ['Masks{}.png'.format(i) for i in range(990,1201)]\n",
    "#for fname in fnames:\n",
    "#   src=os.path.join(original_masks, fname)\n",
    "#   dst=os.path.join(validation_masks_dir, fname)\n",
    "#   shutil.copyfile(src,dst)\n",
    "\n",
    "#fnames = ['Masks{}.png'.format(i) for i in range(1202,1413)]\n",
    "#for fname in fnames:\n",
    "#   src=os.path.join(original_masks, fname)\n",
    "#   dst=os.path.join(test_masks_dir, fname)\n",
    "#   shutil.copyfile(src,dst)\n",
    "\n",
    "\n",
    "#fnames = ['Faces{}.png'.format(i) for i in range(0,989)]\n",
    "#for fname in fnames:\n",
    "#   src=os.path.join(original_faces, fname)\n",
    "#   dst=os.path.join(train_no_masks_dir, fname)\n",
    "#   shutil.copyfile(src,dst)\n",
    "\n",
    "#fnames = ['Faces{}.png'.format(i) for i in range(990,1201)]\n",
    "#for fname in fnames:\n",
    "#   src=os.path.join(original_faces, fname)\n",
    "#   dst=os.path.join(validation_no_masks_dir, fname)\n",
    "#   shutil.copyfile(src,dst)\n",
    "\n",
    "#fnames = ['Faces{}.png'.format(i) for i in range(1202,1413)]\n",
    "#for fname in fnames:\n",
    "#   src=os.path.join(original_faces, fname)\n",
    "#   dst=os.path.join(test_no_masks_dir, fname)\n",
    "#   shutil.copyfile(src,dst)"
   ]
  },
  {
   "cell_type": "markdown",
   "metadata": {
    "id": "3k8HUA5ZoOpA"
   },
   "source": [
    "### 2. Model Architecture"
   ]
  },
  {
   "cell_type": "code",
   "execution_count": 7,
   "metadata": {
    "id": "Mw9HnGrTl8kH"
   },
   "outputs": [],
   "source": [
    "# Sequential model | Create linear stack of layers\n",
    "model = Sequential()\n",
    "\n",
    "# Convolutional layer | Conv2D\n",
    "model.add(Conv2D(32, (3, 3), activation='relu', input_shape=(144,144, 3)))\n",
    "model.add(MaxPooling2D((2, 2)))\n",
    "# model.add(Conv2D(64, (3, 3), activation='relu'))\n",
    "# model.add(MaxPooling2D((2, 2)))\n",
    "\n",
    "# Flatten output of Conv\n",
    "model.add(Flatten())\n",
    "# Hidden layer\n",
    "model.add(Dense(32, activation='relu'))\n",
    "# Output layer\n",
    "model.add(Dense(1, activation='sigmoid'))"
   ]
  },
  {
   "cell_type": "code",
   "execution_count": 8,
   "metadata": {
    "id": "vjTMhvaBNulG"
   },
   "outputs": [],
   "source": [
    "# compiling the model\n",
    "model.compile(optimizer = 'adam', \n",
    "              loss = 'binary_crossentropy',\n",
    "              metrics=['accuracy'])"
   ]
  },
  {
   "cell_type": "code",
   "execution_count": 9,
   "metadata": {
    "colab": {
     "base_uri": "https://localhost:8080/"
    },
    "executionInfo": {
     "elapsed": 570,
     "status": "ok",
     "timestamp": 1616104742922,
     "user": {
      "displayName": "ana marta silva",
      "photoUrl": "",
      "userId": "06374727522975360903"
     },
     "user_tz": 0
    },
    "id": "8KFLXQTYNvCn",
    "outputId": "67f86a40-df61-435b-f103-53f4a4c0204d"
   },
   "outputs": [
    {
     "name": "stdout",
     "output_type": "stream",
     "text": [
      "Model: \"sequential\"\n",
      "_________________________________________________________________\n",
      "Layer (type)                 Output Shape              Param #   \n",
      "=================================================================\n",
      "conv2d (Conv2D)              (None, 142, 142, 32)      896       \n",
      "_________________________________________________________________\n",
      "max_pooling2d (MaxPooling2D) (None, 71, 71, 32)        0         \n",
      "_________________________________________________________________\n",
      "flatten (Flatten)            (None, 161312)            0         \n",
      "_________________________________________________________________\n",
      "dense (Dense)                (None, 32)                5162016   \n",
      "_________________________________________________________________\n",
      "dense_1 (Dense)              (None, 1)                 33        \n",
      "=================================================================\n",
      "Total params: 5,162,945\n",
      "Trainable params: 5,162,945\n",
      "Non-trainable params: 0\n",
      "_________________________________________________________________\n"
     ]
    }
   ],
   "source": [
    "# visualizing the model structure\n",
    "model.summary()"
   ]
  },
  {
   "cell_type": "code",
   "execution_count": 10,
   "metadata": {
    "id": "e0qmHJ3TI37t"
   },
   "outputs": [],
   "source": [
    "# scaling the data\n",
    "train_datagen=ImageDataGenerator(rescale = 1./255)\n",
    "validation_datagen=ImageDataGenerator(rescale = 1./255)\n",
    "test_datagen=ImageDataGenerator(rescale = 1./255)"
   ]
  },
  {
   "cell_type": "code",
   "execution_count": 11,
   "metadata": {
    "colab": {
     "base_uri": "https://localhost:8080/"
    },
    "executionInfo": {
     "elapsed": 740,
     "status": "ok",
     "timestamp": 1616104799395,
     "user": {
      "displayName": "ana marta silva",
      "photoUrl": "",
      "userId": "06374727522975360903"
     },
     "user_tz": 0
    },
    "id": "BD2vBwm9J6cJ",
    "outputId": "6c0c2bc5-f9fe-47ba-bbc3-1a1fd23f83c3"
   },
   "outputs": [
    {
     "name": "stdout",
     "output_type": "stream",
     "text": [
      "Found 1978 images belonging to 2 classes.\n",
      "Found 422 images belonging to 2 classes.\n",
      "Found 422 images belonging to 2 classes.\n"
     ]
    }
   ],
   "source": [
    "# importing the images\n",
    "# flow when numpy array input, flow_from_directory when the inputs are directly images\n",
    "\n",
    "training_set = train_datagen.flow_from_directory('train',\n",
    "                                                 target_size = (144, 144),\n",
    "                                                 batch_size = 20,\n",
    "                                                 color_mode=\"rgb\",\n",
    "                                                 class_mode = 'binary')\n",
    "\n",
    "\n",
    "validation_set = validation_datagen.flow_from_directory('validation', \n",
    "                                                        target_size = (144, 144),\n",
    "                                                        batch_size = 20,\n",
    "                                                        color_mode=\"rgb\",\n",
    "                                                        class_mode = 'binary')\n",
    "\n",
    "test_set = test_datagen.flow_from_directory('test',\n",
    "                                            target_size = (144, 144),\n",
    "                                            batch_size = 20,\n",
    "                                            class_mode = 'binary',\n",
    "                                            shuffle = False)\n"
   ]
  },
  {
   "cell_type": "code",
   "execution_count": 12,
   "metadata": {
    "colab": {
     "base_uri": "https://localhost:8080/"
    },
    "executionInfo": {
     "elapsed": 1395949,
     "status": "ok",
     "timestamp": 1616106357853,
     "user": {
      "displayName": "ana marta silva",
      "photoUrl": "",
      "userId": "06374727522975360903"
     },
     "user_tz": 0
    },
    "id": "uxF4aRPyJaAT",
    "outputId": "4a2dc7e8-9ba9-4a5c-9c06-8339156d4af9"
   },
   "outputs": [
    {
     "name": "stderr",
     "output_type": "stream",
     "text": [
      "C:\\Users\\marta\\anaconda3\\lib\\site-packages\\tensorflow\\python\\keras\\engine\\training.py:1844: UserWarning: `Model.fit_generator` is deprecated and will be removed in a future version. Please use `Model.fit`, which supports generators.\n",
      "  warnings.warn('`Model.fit_generator` is deprecated and '\n"
     ]
    },
    {
     "name": "stdout",
     "output_type": "stream",
     "text": [
      "Epoch 1/20\n",
      "19/49 [==========>...................] - ETA: 21s - loss: 4.2716 - accuracy: 0.5330"
     ]
    },
    {
     "name": "stderr",
     "output_type": "stream",
     "text": [
      "C:\\Users\\marta\\anaconda3\\lib\\site-packages\\PIL\\Image.py:960: UserWarning: Palette images with Transparency expressed in bytes should be converted to RGBA images\n",
      "  warnings.warn(\n"
     ]
    },
    {
     "name": "stdout",
     "output_type": "stream",
     "text": [
      "49/49 [==============================] - 34s 684ms/step - loss: 3.1380 - accuracy: 0.5699 - val_loss: 0.6910 - val_accuracy: 0.6000\n",
      "Epoch 2/20\n",
      "49/49 [==============================] - 34s 685ms/step - loss: 0.4992 - accuracy: 0.7578 - val_loss: 0.4326 - val_accuracy: 0.7800\n",
      "Epoch 3/20\n",
      "49/49 [==============================] - 34s 681ms/step - loss: 0.3088 - accuracy: 0.8837 - val_loss: 0.4667 - val_accuracy: 0.8100\n",
      "Epoch 4/20\n",
      "49/49 [==============================] - 34s 679ms/step - loss: 0.1886 - accuracy: 0.9364 - val_loss: 0.3880 - val_accuracy: 0.8500\n",
      "Epoch 5/20\n",
      "49/49 [==============================] - 32s 658ms/step - loss: 0.1425 - accuracy: 0.9559 - val_loss: 0.4797 - val_accuracy: 0.8150\n",
      "Epoch 6/20\n",
      "49/49 [==============================] - 32s 655ms/step - loss: 0.0751 - accuracy: 0.9822 - val_loss: 0.3709 - val_accuracy: 0.8650\n",
      "Epoch 7/20\n",
      "49/49 [==============================] - 31s 640ms/step - loss: 0.0443 - accuracy: 0.9969 - val_loss: 0.3385 - val_accuracy: 0.8950\n",
      "Epoch 8/20\n",
      "49/49 [==============================] - 33s 667ms/step - loss: 0.0488 - accuracy: 0.9884 - val_loss: 0.2956 - val_accuracy: 0.9150\n",
      "Epoch 9/20\n",
      "49/49 [==============================] - 29s 603ms/step - loss: 0.0324 - accuracy: 0.9976 - val_loss: 0.3302 - val_accuracy: 0.8950\n",
      "Epoch 10/20\n",
      "49/49 [==============================] - 34s 691ms/step - loss: 0.0174 - accuracy: 0.9993 - val_loss: 0.2511 - val_accuracy: 0.9150\n",
      "Epoch 11/20\n",
      "49/49 [==============================] - 33s 683ms/step - loss: 0.0099 - accuracy: 1.0000 - val_loss: 0.2988 - val_accuracy: 0.9150\n",
      "Epoch 12/20\n",
      "49/49 [==============================] - 32s 649ms/step - loss: 0.0095 - accuracy: 0.9991 - val_loss: 0.2753 - val_accuracy: 0.9100\n",
      "Epoch 13/20\n",
      "49/49 [==============================] - 31s 643ms/step - loss: 0.0110 - accuracy: 1.0000 - val_loss: 0.2109 - val_accuracy: 0.9200\n",
      "Epoch 14/20\n",
      "49/49 [==============================] - 30s 590ms/step - loss: 0.0064 - accuracy: 1.0000 - val_loss: 0.4018 - val_accuracy: 0.8600\n",
      "Epoch 15/20\n",
      "49/49 [==============================] - 32s 661ms/step - loss: 0.0041 - accuracy: 1.0000 - val_loss: 0.2124 - val_accuracy: 0.9250\n",
      "Epoch 16/20\n",
      "49/49 [==============================] - 35s 715ms/step - loss: 0.0036 - accuracy: 1.0000 - val_loss: 0.4343 - val_accuracy: 0.8750\n",
      "Epoch 17/20\n",
      "49/49 [==============================] - 34s 696ms/step - loss: 0.0025 - accuracy: 1.0000 - val_loss: 0.3466 - val_accuracy: 0.9250\n",
      "Epoch 18/20\n",
      "49/49 [==============================] - 34s 681ms/step - loss: 0.0016 - accuracy: 1.0000 - val_loss: 0.3279 - val_accuracy: 0.9250\n",
      "Epoch 19/20\n",
      "49/49 [==============================] - 32s 650ms/step - loss: 0.0015 - accuracy: 1.0000 - val_loss: 0.4443 - val_accuracy: 0.9000\n",
      "Epoch 20/20\n",
      "49/49 [==============================] - 33s 677ms/step - loss: 0.0013 - accuracy: 1.0000 - val_loss: 0.4292 - val_accuracy: 0.8750\n"
     ]
    }
   ],
   "source": [
    "# fitting the model\n",
    "Epochs = 20\n",
    "\n",
    "#hist=model.fit_generator(training_set,\n",
    "#                         steps_per_epoch = 99,\n",
    "#                         epochs = 1,\n",
    "#                         validation_data = validation_set,\n",
    "#                         validation_steps = 28)\n",
    "\n",
    "#hist=model.fit_generator(training_set,\n",
    "#                         validation_data = validation_set,\n",
    "#                         epochs= Epochs ,\n",
    "#                         steps_per_epoch = len(validation_set),\n",
    "#                         validation_steps = len(validation_set)\n",
    "#                         )\n",
    "\n",
    "\n",
    "# hist=model.fit_generator(training_set,\n",
    "#                          validation_data = validation_set,\n",
    "#                          epochs = Epochs,\n",
    "#                          steps_per_epoch = len(validation_set)\n",
    "#                          )\n",
    "\n",
    "hist=model.fit_generator(training_set,\n",
    "                         steps_per_epoch = 49,\n",
    "                         epochs = 20,\n",
    "                         validation_data = validation_set,\n",
    "                         validation_steps = 10\n",
    "                         )"
   ]
  },
  {
   "cell_type": "code",
   "execution_count": 13,
   "metadata": {
    "id": "MEf9Fbs2fKB-"
   },
   "outputs": [],
   "source": [
    "# possible solution to solve the problem above\n",
    "\n",
    "#from io import BytesIO\n",
    "#BytesIO(b\"0x7fbac83f9350\")"
   ]
  },
  {
   "cell_type": "code",
   "execution_count": 14,
   "metadata": {
    "id": "CIgdlLQhl8dE"
   },
   "outputs": [],
   "source": [
    "# # checking the information of the batch we split\n",
    "# # checking if it makes sense with the size of the images\n",
    "\n",
    "# batchX, batchy = train_iterator.next()\n",
    "# print('Train Batch shape=%s, min=%.3f, max=%.3f' % (batchX.shape, batchX.min(), batchX.max()))\n",
    "\n",
    "# batchX, batchy = validation_iterator.next()\n",
    "# print('Validation Batch shape=%s, min=%.3f, max=%.3f' % (batchX.shape, batchX.min(), batchX.max()))\n",
    "\n",
    "# batchX, batchy = test_iterator.next()\n",
    "# print('Test Batch shape=%s, min=%.3f, max=%.3f' % (batchX.shape, batchX.min(), batchX.max()))"
   ]
  },
  {
   "cell_type": "code",
   "execution_count": 15,
   "metadata": {
    "colab": {
     "base_uri": "https://localhost:8080/",
     "height": 0
    },
    "executionInfo": {
     "elapsed": 114388,
     "status": "ok",
     "timestamp": 1616106556096,
     "user": {
      "displayName": "ana marta silva",
      "photoUrl": "",
      "userId": "06374727522975360903"
     },
     "user_tz": 0
    },
    "id": "KAyMIJOBJb6y",
    "outputId": "76a4834f-da66-449a-95c4-10d2bd56aa35"
   },
   "outputs": [
    {
     "name": "stderr",
     "output_type": "stream",
     "text": [
      "C:\\Users\\marta\\anaconda3\\lib\\site-packages\\tensorflow\\python\\keras\\engine\\training.py:1905: UserWarning: `Model.predict_generator` is deprecated and will be removed in a future version. Please use `Model.predict`, which supports generators.\n",
      "  warnings.warn('`Model.predict_generator` is deprecated and '\n"
     ]
    }
   ],
   "source": [
    "# FINALLY OUR MODEL PREDICT\n",
    "\n",
    "Y_pred = model.predict_generator(test_set, len(validation_set))    # ceil(num_of_test_samples / batch_size)\n",
    "\n",
    "# changing the result as True and False\n",
    "Y_pred = (Y_pred>0.5)\n",
    "\n",
    "\n",
    "\n",
    "# if you have the last version of tensorflow, the predict_generator is deprecated.\n",
    "# you should use the predict method.\n",
    "# if you do not have the last version, you must use predict_generator"
   ]
  },
  {
   "cell_type": "code",
   "execution_count": 16,
   "metadata": {
    "colab": {
     "base_uri": "https://localhost:8080/",
     "height": 0
    },
    "executionInfo": {
     "elapsed": 550,
     "status": "ok",
     "timestamp": 1616106612303,
     "user": {
      "displayName": "ana marta silva",
      "photoUrl": "",
      "userId": "06374727522975360903"
     },
     "user_tz": 0
    },
    "id": "3QuF5zCj-oQj",
    "outputId": "0f928a9a-af8b-48ad-8655-3c68ee3d2890"
   },
   "outputs": [
    {
     "data": {
      "text/plain": [
       "(422, 1)"
      ]
     },
     "execution_count": 16,
     "metadata": {},
     "output_type": "execute_result"
    }
   ],
   "source": [
    "Y_pred.shape"
   ]
  },
  {
   "cell_type": "code",
   "execution_count": 17,
   "metadata": {
    "colab": {
     "base_uri": "https://localhost:8080/",
     "height": 0
    },
    "executionInfo": {
     "elapsed": 542,
     "status": "ok",
     "timestamp": 1616106614534,
     "user": {
      "displayName": "ana marta silva",
      "photoUrl": "",
      "userId": "06374727522975360903"
     },
     "user_tz": 0
    },
    "id": "gPUzxgRR87WX",
    "outputId": "97e26cc9-76e7-4d30-f75a-fcd11487df8c"
   },
   "outputs": [
    {
     "data": {
      "text/plain": [
       "(422,)"
      ]
     },
     "execution_count": 17,
     "metadata": {},
     "output_type": "execute_result"
    }
   ],
   "source": [
    "test_set.classes.shape"
   ]
  },
  {
   "cell_type": "markdown",
   "metadata": {
    "id": "FjSdHDW0ViQ5"
   },
   "source": [
    "## Prediction assessment"
   ]
  },
  {
   "cell_type": "code",
   "execution_count": 18,
   "metadata": {
    "colab": {
     "base_uri": "https://localhost:8080/",
     "height": 0
    },
    "executionInfo": {
     "elapsed": 586,
     "status": "ok",
     "timestamp": 1616106640401,
     "user": {
      "displayName": "ana marta silva",
      "photoUrl": "",
      "userId": "06374727522975360903"
     },
     "user_tz": 0
    },
    "id": "sv1KJDNaJb9_",
    "outputId": "6c6d3d71-af37-435d-913b-a58a0c30580e"
   },
   "outputs": [
    {
     "name": "stdout",
     "output_type": "stream",
     "text": [
      "Confusion matrix\n",
      "[[188  23]\n",
      " [ 39 172]]\n"
     ]
    }
   ],
   "source": [
    "# confusion matrix\n",
    "print('Confusion matrix')\n",
    "print(confusion_matrix(test_set.classes, Y_pred))"
   ]
  },
  {
   "cell_type": "code",
   "execution_count": 19,
   "metadata": {},
   "outputs": [
    {
     "name": "stdout",
     "output_type": "stream",
     "text": [
      "Classification Report\n",
      "              precision    recall  f1-score   support\n",
      "\n",
      "     No Mask       0.83      0.89      0.86       211\n",
      "        Mask       0.88      0.82      0.85       211\n",
      "\n",
      "    accuracy                           0.85       422\n",
      "   macro avg       0.86      0.85      0.85       422\n",
      "weighted avg       0.86      0.85      0.85       422\n",
      "\n"
     ]
    }
   ],
   "source": [
    "# classification report\n",
    "print('Classification Report')\n",
    "target_names = ['No Mask', 'Mask']\n",
    "print(classification_report(test_set.classes, Y_pred, target_names=target_names))"
   ]
  },
  {
   "cell_type": "code",
   "execution_count": 20,
   "metadata": {},
   "outputs": [
    {
     "data": {
      "image/png": "[encoded data removed]",
      "text/plain": [
       "<Figure size 432x288 with 1 Axes>"
      ]
     },
     "metadata": {
      "needs_background": "light"
     },
     "output_type": "display_data"
    },
    {
     "data": {
      "image/png": "[encoded data removed]",
      "text/plain": [
       "<Figure size 432x288 with 1 Axes>"
      ]
     },
     "metadata": {
      "needs_background": "light"
     },
     "output_type": "display_data"
    }
   ],
   "source": [
    "# plotting\n",
    "\n",
    "# displaying the accuracy and loss over the training epochs\n",
    "acc = hist.history['accuracy']\n",
    "val_acc = hist.history['val_accuracy']\n",
    "loss = hist.history['loss']\n",
    "val_loss = hist.history['val_loss']\n",
    "\n",
    "epochs = range(1, len(acc) +1)\n",
    "\n",
    "plt.plot(epochs, acc, 'bo', label='Training acc')\n",
    "plt.plot(epochs, val_acc, 'b', label='Validation acc')\n",
    "plt.title('Training and validation accuracy')\n",
    "plt.legend()\n",
    "plt.figure()\n",
    "\n",
    "plt.plot(epochs, loss, 'bo', label='Training loss')\n",
    "plt.plot(epochs, val_loss, 'b', label='Validation loss')\n",
    "plt.title('Training and validation loss')\n",
    "plt.legend()\n",
    "\n",
    "plt.show()"
   ]
  },
  {
   "cell_type": "markdown",
   "metadata": {},
   "source": [
    "# New trial - Data augmentation and batch size of 40"
   ]
  },
  {
   "cell_type": "code",
   "execution_count": 56,
   "metadata": {
    "colab": {
     "base_uri": "https://localhost:8080/"
    },
    "executionInfo": {
     "elapsed": 570,
     "status": "ok",
     "timestamp": 1616104742922,
     "user": {
      "displayName": "ana marta silva",
      "photoUrl": "",
      "userId": "06374727522975360903"
     },
     "user_tz": 0
    },
    "id": "8KFLXQTYNvCn",
    "outputId": "67f86a40-df61-435b-f103-53f4a4c0204d"
   },
   "outputs": [
    {
     "name": "stdout",
     "output_type": "stream",
     "text": [
      "Model: \"sequential\"\n",
      "_________________________________________________________________\n",
      "Layer (type)                 Output Shape              Param #   \n",
      "=================================================================\n",
      "conv2d (Conv2D)              (None, 142, 142, 32)      896       \n",
      "_________________________________________________________________\n",
      "max_pooling2d (MaxPooling2D) (None, 71, 71, 32)        0         \n",
      "_________________________________________________________________\n",
      "flatten (Flatten)            (None, 161312)            0         \n",
      "_________________________________________________________________\n",
      "dense (Dense)                (None, 32)                5162016   \n",
      "_________________________________________________________________\n",
      "dense_1 (Dense)              (None, 1)                 33        \n",
      "=================================================================\n",
      "Total params: 5,162,945\n",
      "Trainable params: 5,162,945\n",
      "Non-trainable params: 0\n",
      "_________________________________________________________________\n"
     ]
    }
   ],
   "source": [
    "# visualizing the model structure\n",
    "model.summary()"
   ]
  },
  {
   "cell_type": "code",
   "execution_count": 57,
   "metadata": {},
   "outputs": [],
   "source": [
    "#Data augmentation\n",
    "train_datagen = ImageDataGenerator(rescale = 1./255,\n",
    "                                   shear_range = 0.2,\n",
    "                                   zoom_range = 0.2,\n",
    "                                   horizontal_flip = True)\n",
    "validation_datagen=ImageDataGenerator(rescale = 1./255)\n",
    "# test set only rescaled\n",
    "test_datagen = ImageDataGenerator(rescale = 1./255)"
   ]
  },
  {
   "cell_type": "code",
   "execution_count": 58,
   "metadata": {
    "colab": {
     "base_uri": "https://localhost:8080/"
    },
    "executionInfo": {
     "elapsed": 740,
     "status": "ok",
     "timestamp": 1616104799395,
     "user": {
      "displayName": "ana marta silva",
      "photoUrl": "",
      "userId": "06374727522975360903"
     },
     "user_tz": 0
    },
    "id": "BD2vBwm9J6cJ",
    "outputId": "6c0c2bc5-f9fe-47ba-bbc3-1a1fd23f83c3"
   },
   "outputs": [
    {
     "name": "stdout",
     "output_type": "stream",
     "text": [
      "Found 1978 images belonging to 2 classes.\n",
      "Found 422 images belonging to 2 classes.\n",
      "Found 422 images belonging to 2 classes.\n"
     ]
    }
   ],
   "source": [
    "# importing the images\n",
    "# flow when numpy array input, flow_from_directory when the inputs are directly images\n",
    "\n",
    "training_set = train_datagen.flow_from_directory('train',\n",
    "                                                 target_size = (144, 144),\n",
    "                                                 batch_size = 40,\n",
    "                                                 color_mode=\"rgb\",\n",
    "                                                 class_mode = 'binary')\n",
    "\n",
    "\n",
    "validation_set = validation_datagen.flow_from_directory('validation', \n",
    "                                                        target_size = (144, 144),\n",
    "                                                        batch_size = 40,\n",
    "                                                        color_mode=\"rgb\",\n",
    "                                                        class_mode = 'binary')\n",
    "\n",
    "test_set = test_datagen.flow_from_directory('test',\n",
    "                                            target_size = (144, 144),\n",
    "                                            batch_size = 40,\n",
    "                                            class_mode = 'binary',\n",
    "                                            shuffle = False)\n"
   ]
  },
  {
   "cell_type": "code",
   "execution_count": 59,
   "metadata": {
    "colab": {
     "base_uri": "https://localhost:8080/"
    },
    "executionInfo": {
     "elapsed": 1395949,
     "status": "ok",
     "timestamp": 1616106357853,
     "user": {
      "displayName": "ana marta silva",
      "photoUrl": "",
      "userId": "06374727522975360903"
     },
     "user_tz": 0
    },
    "id": "uxF4aRPyJaAT",
    "outputId": "4a2dc7e8-9ba9-4a5c-9c06-8339156d4af9"
   },
   "outputs": [
    {
     "name": "stdout",
     "output_type": "stream",
     "text": [
      "Epoch 1/20\n",
      "49/49 [==============================] - 61s 1s/step - loss: 0.0948 - accuracy: 0.9654 - val_loss: 0.9382 - val_accuracy: 0.7700\n",
      "Epoch 2/20\n",
      "49/49 [==============================] - 66s 1s/step - loss: 0.0756 - accuracy: 0.9721 - val_loss: 0.6723 - val_accuracy: 0.8475\n",
      "Epoch 3/20\n",
      "49/49 [==============================] - 62s 1s/step - loss: 0.0665 - accuracy: 0.9799 - val_loss: 0.6834 - val_accuracy: 0.8525\n",
      "Epoch 4/20\n",
      "49/49 [==============================] - 64s 1s/step - loss: 0.0670 - accuracy: 0.9768 - val_loss: 0.6234 - val_accuracy: 0.8450\n",
      "Epoch 5/20\n",
      "49/49 [==============================] - 63s 1s/step - loss: 0.0616 - accuracy: 0.9783 - val_loss: 0.8144 - val_accuracy: 0.8225\n",
      "Epoch 6/20\n",
      "49/49 [==============================] - 63s 1s/step - loss: 0.0639 - accuracy: 0.9799 - val_loss: 0.9360 - val_accuracy: 0.8000\n",
      "Epoch 7/20\n",
      "49/49 [==============================] - 65s 1s/step - loss: 0.0765 - accuracy: 0.9716 - val_loss: 0.8527 - val_accuracy: 0.8175\n",
      "Epoch 8/20\n",
      "49/49 [==============================] - 66s 1s/step - loss: 0.0715 - accuracy: 0.9727 - val_loss: 0.5615 - val_accuracy: 0.8725\n",
      "Epoch 9/20\n",
      "49/49 [==============================] - 65s 1s/step - loss: 0.0641 - accuracy: 0.9737 - val_loss: 0.5673 - val_accuracy: 0.8700\n",
      "Epoch 10/20\n",
      "49/49 [==============================] - 76s 2s/step - loss: 0.0623 - accuracy: 0.9783 - val_loss: 0.8281 - val_accuracy: 0.8425\n",
      "Epoch 11/20\n",
      "49/49 [==============================] - 74s 2s/step - loss: 0.0600 - accuracy: 0.9788 - val_loss: 0.6587 - val_accuracy: 0.8575\n",
      "Epoch 12/20\n",
      "49/49 [==============================] - 76s 2s/step - loss: 0.0502 - accuracy: 0.9830 - val_loss: 0.6536 - val_accuracy: 0.8750\n",
      "Epoch 13/20\n",
      "49/49 [==============================] - 114s 2s/step - loss: 0.0832 - accuracy: 0.9654 - val_loss: 1.0447 - val_accuracy: 0.7525\n",
      "Epoch 14/20\n",
      "49/49 [==============================] - 133s 3s/step - loss: 0.0943 - accuracy: 0.9675 - val_loss: 0.5386 - val_accuracy: 0.8900\n",
      "Epoch 15/20\n",
      "49/49 [==============================] - 131s 3s/step - loss: 0.0524 - accuracy: 0.9830 - val_loss: 0.6611 - val_accuracy: 0.8700\n",
      "Epoch 16/20\n",
      "49/49 [==============================] - 131s 3s/step - loss: 0.0482 - accuracy: 0.9819 - val_loss: 0.7277 - val_accuracy: 0.8525\n",
      "Epoch 17/20\n",
      "49/49 [==============================] - 134s 3s/step - loss: 0.0561 - accuracy: 0.9794 - val_loss: 0.6283 - val_accuracy: 0.8725\n",
      "Epoch 18/20\n",
      "49/49 [==============================] - 133s 3s/step - loss: 0.0621 - accuracy: 0.9763 - val_loss: 0.7427 - val_accuracy: 0.8400\n",
      "Epoch 19/20\n",
      "49/49 [==============================] - 134s 3s/step - loss: 0.0574 - accuracy: 0.9804 - val_loss: 0.6111 - val_accuracy: 0.8625\n",
      "Epoch 20/20\n",
      "49/49 [==============================] - 133s 3s/step - loss: 0.0367 - accuracy: 0.9897 - val_loss: 0.5993 - val_accuracy: 0.8775\n"
     ]
    }
   ],
   "source": [
    "# fitting the model\n",
    "Epochs = 20\n",
    "\n",
    "\n",
    "hist=model.fit_generator(training_set,\n",
    "                         steps_per_epoch = 49,\n",
    "                         epochs = 20,\n",
    "                         validation_data = validation_set,\n",
    "                         validation_steps = 10\n",
    "                         )"
   ]
  },
  {
   "cell_type": "code",
   "execution_count": 60,
   "metadata": {
    "colab": {
     "base_uri": "https://localhost:8080/",
     "height": 0
    },
    "executionInfo": {
     "elapsed": 114388,
     "status": "ok",
     "timestamp": 1616106556096,
     "user": {
      "displayName": "ana marta silva",
      "photoUrl": "",
      "userId": "06374727522975360903"
     },
     "user_tz": 0
    },
    "id": "KAyMIJOBJb6y",
    "outputId": "76a4834f-da66-449a-95c4-10d2bd56aa35"
   },
   "outputs": [],
   "source": [
    "# FINALLY OUR MODEL PREDICT\n",
    "\n",
    "Y_pred = model.predict_generator(test_set, len(validation_set))    # ceil(num_of_test_samples / batch_size)\n",
    "\n",
    "# changing the result as True and False\n",
    "Y_pred = (Y_pred>0.5)\n"
   ]
  },
  {
   "cell_type": "code",
   "execution_count": 61,
   "metadata": {
    "colab": {
     "base_uri": "https://localhost:8080/",
     "height": 0
    },
    "executionInfo": {
     "elapsed": 550,
     "status": "ok",
     "timestamp": 1616106612303,
     "user": {
      "displayName": "ana marta silva",
      "photoUrl": "",
      "userId": "06374727522975360903"
     },
     "user_tz": 0
    },
    "id": "3QuF5zCj-oQj",
    "outputId": "0f928a9a-af8b-48ad-8655-3c68ee3d2890"
   },
   "outputs": [
    {
     "data": {
      "text/plain": [
       "(422, 1)"
      ]
     },
     "execution_count": 61,
     "metadata": {},
     "output_type": "execute_result"
    }
   ],
   "source": [
    "Y_pred.shape"
   ]
  },
  {
   "cell_type": "code",
   "execution_count": 62,
   "metadata": {
    "colab": {
     "base_uri": "https://localhost:8080/",
     "height": 0
    },
    "executionInfo": {
     "elapsed": 542,
     "status": "ok",
     "timestamp": 1616106614534,
     "user": {
      "displayName": "ana marta silva",
      "photoUrl": "",
      "userId": "06374727522975360903"
     },
     "user_tz": 0
    },
    "id": "gPUzxgRR87WX",
    "outputId": "97e26cc9-76e7-4d30-f75a-fcd11487df8c"
   },
   "outputs": [
    {
     "data": {
      "text/plain": [
       "(422,)"
      ]
     },
     "execution_count": 62,
     "metadata": {},
     "output_type": "execute_result"
    }
   ],
   "source": [
    "test_set.classes.shape"
   ]
  },
  {
   "cell_type": "markdown",
   "metadata": {
    "id": "FjSdHDW0ViQ5"
   },
   "source": [
    "## Prediction assessment"
   ]
  },
  {
   "cell_type": "code",
   "execution_count": 63,
   "metadata": {
    "colab": {
     "base_uri": "https://localhost:8080/",
     "height": 0
    },
    "executionInfo": {
     "elapsed": 586,
     "status": "ok",
     "timestamp": 1616106640401,
     "user": {
      "displayName": "ana marta silva",
      "photoUrl": "",
      "userId": "06374727522975360903"
     },
     "user_tz": 0
    },
    "id": "sv1KJDNaJb9_",
    "outputId": "6c6d3d71-af37-435d-913b-a58a0c30580e"
   },
   "outputs": [
    {
     "name": "stdout",
     "output_type": "stream",
     "text": [
      "Confusion matrix\n",
      "[[192  19]\n",
      " [ 26 185]]\n"
     ]
    }
   ],
   "source": [
    "# confusion matrix\n",
    "print('Confusion matrix')\n",
    "print(confusion_matrix(test_set.classes, Y_pred))"
   ]
  },
  {
   "cell_type": "code",
   "execution_count": 64,
   "metadata": {},
   "outputs": [
    {
     "name": "stdout",
     "output_type": "stream",
     "text": [
      "Classification Report\n",
      "              precision    recall  f1-score   support\n",
      "\n",
      "     No Mask       0.88      0.91      0.90       211\n",
      "        Mask       0.91      0.88      0.89       211\n",
      "\n",
      "    accuracy                           0.89       422\n",
      "   macro avg       0.89      0.89      0.89       422\n",
      "weighted avg       0.89      0.89      0.89       422\n",
      "\n"
     ]
    }
   ],
   "source": [
    "# classification report\n",
    "print('Classification Report')\n",
    "target_names = ['No Mask', 'Mask']\n",
    "print(classification_report(test_set.classes, Y_pred, target_names=target_names))"
   ]
  },
  {
   "cell_type": "code",
   "execution_count": 65,
   "metadata": {},
   "outputs": [
    {
     "data": {
      "image/png": "[encoded data removed]",
      "text/plain": [
       "<Figure size 432x288 with 1 Axes>"
      ]
     },
     "metadata": {
      "needs_background": "light"
     },
     "output_type": "display_data"
    },
    {
     "data": {
      "image/png": "[encoded data removed]",
      "text/plain": [
       "<Figure size 432x288 with 1 Axes>"
      ]
     },
     "metadata": {
      "needs_background": "light"
     },
     "output_type": "display_data"
    }
   ],
   "source": [
    "# plotting\n",
    "\n",
    "# displaying the accuracy and loss over the training epochs\n",
    "acc = hist.history['accuracy']\n",
    "val_acc = hist.history['val_accuracy']\n",
    "loss = hist.history['loss']\n",
    "val_loss = hist.history['val_loss']\n",
    "\n",
    "epochs = range(1, len(acc) +1)\n",
    "\n",
    "plt.plot(epochs, acc, 'bo', label='Training acc')\n",
    "plt.plot(epochs, val_acc, 'b', label='Validation acc')\n",
    "plt.title('Training and validation accuracy')\n",
    "plt.legend()\n",
    "plt.figure()\n",
    "\n",
    "plt.plot(epochs, loss, 'bo', label='Training loss')\n",
    "plt.plot(epochs, val_loss, 'b', label='Validation loss')\n",
    "plt.title('Training and validation loss')\n",
    "plt.legend()\n",
    "\n",
    "plt.show()"
   ]
  },
  {
   "cell_type": "markdown",
   "metadata": {},
   "source": [
    "# Dropout"
   ]
  },
  {
   "cell_type": "code",
   "execution_count": 71,
   "metadata": {
    "id": "Mw9HnGrTl8kH"
   },
   "outputs": [],
   "source": [
    "# Sequential model | Create linear stack of layers\n",
    "model = Sequential()\n",
    "\n",
    "# Convolutional layer | Conv2D\n",
    "model.add(Conv2D(32, (3, 3), activation='relu', input_shape=(144,144, 3)))\n",
    "model.add(MaxPooling2D((2, 2)))\n",
    "# model.add(Conv2D(64, (3, 3), activation='relu'))\n",
    "# model.add(MaxPooling2D((2, 2)))\n",
    "\n",
    "# Flatten output of Conv\n",
    "model.add(Flatten())\n",
    "model.add(Dropout(0.2))\n",
    "# Hidden layer\n",
    "model.add(Dense(32, activation='relu'))\n",
    "# Output layer\n",
    "model.add(Dense(1, activation='sigmoid'))"
   ]
  },
  {
   "cell_type": "code",
   "execution_count": 72,
   "metadata": {
    "id": "vjTMhvaBNulG"
   },
   "outputs": [],
   "source": [
    "# compiling the model\n",
    "model.compile(optimizer = 'adam', \n",
    "              loss = 'binary_crossentropy',\n",
    "              metrics=['accuracy'])"
   ]
  },
  {
   "cell_type": "code",
   "execution_count": 73,
   "metadata": {
    "colab": {
     "base_uri": "https://localhost:8080/"
    },
    "executionInfo": {
     "elapsed": 570,
     "status": "ok",
     "timestamp": 1616104742922,
     "user": {
      "displayName": "ana marta silva",
      "photoUrl": "",
      "userId": "06374727522975360903"
     },
     "user_tz": 0
    },
    "id": "8KFLXQTYNvCn",
    "outputId": "67f86a40-df61-435b-f103-53f4a4c0204d"
   },
   "outputs": [
    {
     "name": "stdout",
     "output_type": "stream",
     "text": [
      "Model: \"sequential_4\"\n",
      "_________________________________________________________________\n",
      "Layer (type)                 Output Shape              Param #   \n",
      "=================================================================\n",
      "conv2d_4 (Conv2D)            (None, 142, 142, 32)      896       \n",
      "_________________________________________________________________\n",
      "max_pooling2d_4 (MaxPooling2 (None, 71, 71, 32)        0         \n",
      "_________________________________________________________________\n",
      "flatten_4 (Flatten)          (None, 161312)            0         \n",
      "_________________________________________________________________\n",
      "dropout (Dropout)            (None, 161312)            0         \n",
      "_________________________________________________________________\n",
      "dense_2 (Dense)              (None, 32)                5162016   \n",
      "_________________________________________________________________\n",
      "dense_3 (Dense)              (None, 1)                 33        \n",
      "=================================================================\n",
      "Total params: 5,162,945\n",
      "Trainable params: 5,162,945\n",
      "Non-trainable params: 0\n",
      "_________________________________________________________________\n"
     ]
    }
   ],
   "source": [
    "# visualizing the model structure\n",
    "model.summary()"
   ]
  },
  {
   "cell_type": "code",
   "execution_count": 74,
   "metadata": {
    "id": "e0qmHJ3TI37t"
   },
   "outputs": [],
   "source": [
    "# scaling the data\n",
    "train_datagen=ImageDataGenerator(rescale = 1./255)\n",
    "validation_datagen=ImageDataGenerator(rescale = 1./255)\n",
    "test_datagen=ImageDataGenerator(rescale = 1./255)"
   ]
  },
  {
   "cell_type": "code",
   "execution_count": 75,
   "metadata": {
    "colab": {
     "base_uri": "https://localhost:8080/"
    },
    "executionInfo": {
     "elapsed": 740,
     "status": "ok",
     "timestamp": 1616104799395,
     "user": {
      "displayName": "ana marta silva",
      "photoUrl": "",
      "userId": "06374727522975360903"
     },
     "user_tz": 0
    },
    "id": "BD2vBwm9J6cJ",
    "outputId": "6c0c2bc5-f9fe-47ba-bbc3-1a1fd23f83c3"
   },
   "outputs": [
    {
     "name": "stdout",
     "output_type": "stream",
     "text": [
      "Found 1978 images belonging to 2 classes.\n",
      "Found 422 images belonging to 2 classes.\n",
      "Found 422 images belonging to 2 classes.\n"
     ]
    }
   ],
   "source": [
    "# importing the images\n",
    "# flow when numpy array input, flow_from_directory when the inputs are directly images\n",
    "\n",
    "training_set = train_datagen.flow_from_directory('train',\n",
    "                                                 target_size = (144, 144),\n",
    "                                                 batch_size = 20,\n",
    "                                                 color_mode=\"rgb\",\n",
    "                                                 class_mode = 'binary')\n",
    "\n",
    "\n",
    "validation_set = validation_datagen.flow_from_directory('validation', \n",
    "                                                        target_size = (144, 144),\n",
    "                                                        batch_size = 20,\n",
    "                                                        color_mode=\"rgb\",\n",
    "                                                        class_mode = 'binary')\n",
    "\n",
    "test_set = test_datagen.flow_from_directory('test',\n",
    "                                            target_size = (144, 144),\n",
    "                                            batch_size = 20,\n",
    "                                            class_mode = 'binary',\n",
    "                                            shuffle = False)\n"
   ]
  },
  {
   "cell_type": "code",
   "execution_count": 76,
   "metadata": {
    "colab": {
     "base_uri": "https://localhost:8080/"
    },
    "executionInfo": {
     "elapsed": 1395949,
     "status": "ok",
     "timestamp": 1616106357853,
     "user": {
      "displayName": "ana marta silva",
      "photoUrl": "",
      "userId": "06374727522975360903"
     },
     "user_tz": 0
    },
    "id": "uxF4aRPyJaAT",
    "outputId": "4a2dc7e8-9ba9-4a5c-9c06-8339156d4af9"
   },
   "outputs": [
    {
     "name": "stdout",
     "output_type": "stream",
     "text": [
      "Epoch 1/20\n",
      "49/49 [==============================] - 60s 1s/step - loss: 1.4643 - accuracy: 0.5872 - val_loss: 0.4881 - val_accuracy: 0.8000\n",
      "Epoch 2/20\n",
      "49/49 [==============================] - 63s 1s/step - loss: 0.4374 - accuracy: 0.8001 - val_loss: 0.4075 - val_accuracy: 0.8500\n",
      "Epoch 3/20\n",
      "49/49 [==============================] - 56s 1s/step - loss: 0.2865 - accuracy: 0.8860 - val_loss: 0.4196 - val_accuracy: 0.8000\n",
      "Epoch 4/20\n",
      "49/49 [==============================] - 62s 1s/step - loss: 0.1734 - accuracy: 0.9431 - val_loss: 0.3349 - val_accuracy: 0.8250\n",
      "Epoch 5/20\n",
      "49/49 [==============================] - 61s 1s/step - loss: 0.1404 - accuracy: 0.9563 - val_loss: 0.3265 - val_accuracy: 0.8850\n",
      "Epoch 6/20\n",
      "49/49 [==============================] - 60s 1s/step - loss: 0.0858 - accuracy: 0.9786 - val_loss: 0.2463 - val_accuracy: 0.8950\n",
      "Epoch 7/20\n",
      "49/49 [==============================] - 62s 1s/step - loss: 0.0610 - accuracy: 0.9896 - val_loss: 0.2305 - val_accuracy: 0.8900\n",
      "Epoch 8/20\n",
      "49/49 [==============================] - 58s 1s/step - loss: 0.0466 - accuracy: 0.9928 - val_loss: 0.1777 - val_accuracy: 0.9450\n",
      "Epoch 9/20\n",
      "49/49 [==============================] - 65s 1s/step - loss: 0.0304 - accuracy: 0.9952 - val_loss: 0.3476 - val_accuracy: 0.8700\n",
      "Epoch 10/20\n",
      "49/49 [==============================] - 61s 1s/step - loss: 0.0201 - accuracy: 0.9966 - val_loss: 0.1786 - val_accuracy: 0.9300\n",
      "Epoch 11/20\n",
      "49/49 [==============================] - 65s 1s/step - loss: 0.0258 - accuracy: 0.9940 - val_loss: 0.5082 - val_accuracy: 0.8500\n",
      "Epoch 12/20\n",
      "49/49 [==============================] - 61s 1s/step - loss: 0.0146 - accuracy: 1.0000 - val_loss: 0.2186 - val_accuracy: 0.9300\n",
      "Epoch 13/20\n",
      "49/49 [==============================] - 64s 1s/step - loss: 0.0091 - accuracy: 0.9992 - val_loss: 0.3873 - val_accuracy: 0.9050\n",
      "Epoch 14/20\n",
      "49/49 [==============================] - 62s 1s/step - loss: 0.0186 - accuracy: 1.0000 - val_loss: 0.3027 - val_accuracy: 0.9250\n",
      "Epoch 15/20\n",
      "49/49 [==============================] - 64s 1s/step - loss: 0.0050 - accuracy: 1.0000 - val_loss: 0.2194 - val_accuracy: 0.9500\n",
      "Epoch 16/20\n",
      "49/49 [==============================] - 60s 1s/step - loss: 0.0041 - accuracy: 1.0000 - val_loss: 0.3097 - val_accuracy: 0.9350\n",
      "Epoch 17/20\n",
      "49/49 [==============================] - 57s 1s/step - loss: 0.0028 - accuracy: 1.0000 - val_loss: 0.2594 - val_accuracy: 0.9250\n",
      "Epoch 18/20\n",
      "49/49 [==============================] - 58s 1s/step - loss: 0.0018 - accuracy: 1.0000 - val_loss: 0.3790 - val_accuracy: 0.9350\n",
      "Epoch 19/20\n",
      "49/49 [==============================] - 55s 1s/step - loss: 0.0013 - accuracy: 1.0000 - val_loss: 0.2752 - val_accuracy: 0.9150\n",
      "Epoch 20/20\n",
      "49/49 [==============================] - 59s 1s/step - loss: 0.0012 - accuracy: 1.0000 - val_loss: 0.2082 - val_accuracy: 0.9300\n"
     ]
    }
   ],
   "source": [
    "# fitting the model\n",
    "Epochs = 20\n",
    "\n",
    "#hist=model.fit_generator(training_set,\n",
    "#                         steps_per_epoch = 99,\n",
    "#                         epochs = 1,\n",
    "#                         validation_data = validation_set,\n",
    "#                         validation_steps = 28)\n",
    "\n",
    "#hist=model.fit_generator(training_set,\n",
    "#                         validation_data = validation_set,\n",
    "#                         epochs= Epochs ,\n",
    "#                         steps_per_epoch = len(validation_set),\n",
    "#                         validation_steps = len(validation_set)\n",
    "#                         )\n",
    "\n",
    "\n",
    "# hist=model.fit_generator(training_set,\n",
    "#                          validation_data = validation_set,\n",
    "#                          epochs = Epochs,\n",
    "#                          steps_per_epoch = len(validation_set)\n",
    "#                          )\n",
    "\n",
    "hist=model.fit_generator(training_set,\n",
    "                         steps_per_epoch = 49,\n",
    "                         epochs = 20,\n",
    "                         validation_data = validation_set,\n",
    "                         validation_steps = 10\n",
    "                         )"
   ]
  },
  {
   "cell_type": "code",
   "execution_count": 77,
   "metadata": {
    "id": "MEf9Fbs2fKB-"
   },
   "outputs": [],
   "source": [
    "# possible solution to solve the problem above\n",
    "\n",
    "#from io import BytesIO\n",
    "#BytesIO(b\"0x7fbac83f9350\")"
   ]
  },
  {
   "cell_type": "code",
   "execution_count": 78,
   "metadata": {
    "id": "CIgdlLQhl8dE"
   },
   "outputs": [],
   "source": [
    "# # checking the information of the batch we split\n",
    "# # checking if it makes sense with the size of the images\n",
    "\n",
    "# batchX, batchy = train_iterator.next()\n",
    "# print('Train Batch shape=%s, min=%.3f, max=%.3f' % (batchX.shape, batchX.min(), batchX.max()))\n",
    "\n",
    "# batchX, batchy = validation_iterator.next()\n",
    "# print('Validation Batch shape=%s, min=%.3f, max=%.3f' % (batchX.shape, batchX.min(), batchX.max()))\n",
    "\n",
    "# batchX, batchy = test_iterator.next()\n",
    "# print('Test Batch shape=%s, min=%.3f, max=%.3f' % (batchX.shape, batchX.min(), batchX.max()))"
   ]
  },
  {
   "cell_type": "code",
   "execution_count": 79,
   "metadata": {
    "colab": {
     "base_uri": "https://localhost:8080/",
     "height": 0
    },
    "executionInfo": {
     "elapsed": 114388,
     "status": "ok",
     "timestamp": 1616106556096,
     "user": {
      "displayName": "ana marta silva",
      "photoUrl": "",
      "userId": "06374727522975360903"
     },
     "user_tz": 0
    },
    "id": "KAyMIJOBJb6y",
    "outputId": "76a4834f-da66-449a-95c4-10d2bd56aa35"
   },
   "outputs": [],
   "source": [
    "# FINALLY OUR MODEL PREDICT\n",
    "\n",
    "Y_pred = model.predict_generator(test_set, len(validation_set))    # ceil(num_of_test_samples / batch_size)\n",
    "\n",
    "# changing the result as True and False\n",
    "Y_pred = (Y_pred>0.5)\n",
    "\n",
    "\n",
    "\n",
    "# if you have the last version of tensorflow, the predict_generator is deprecated.\n",
    "# you should use the predict method.\n",
    "# if you do not have the last version, you must use predict_generator"
   ]
  },
  {
   "cell_type": "code",
   "execution_count": 80,
   "metadata": {
    "colab": {
     "base_uri": "https://localhost:8080/",
     "height": 0
    },
    "executionInfo": {
     "elapsed": 550,
     "status": "ok",
     "timestamp": 1616106612303,
     "user": {
      "displayName": "ana marta silva",
      "photoUrl": "",
      "userId": "06374727522975360903"
     },
     "user_tz": 0
    },
    "id": "3QuF5zCj-oQj",
    "outputId": "0f928a9a-af8b-48ad-8655-3c68ee3d2890"
   },
   "outputs": [
    {
     "data": {
      "text/plain": [
       "(422, 1)"
      ]
     },
     "execution_count": 80,
     "metadata": {},
     "output_type": "execute_result"
    }
   ],
   "source": [
    "Y_pred.shape"
   ]
  },
  {
   "cell_type": "code",
   "execution_count": 17,
   "metadata": {
    "colab": {
     "base_uri": "https://localhost:8080/",
     "height": 0
    },
    "executionInfo": {
     "elapsed": 542,
     "status": "ok",
     "timestamp": 1616106614534,
     "user": {
      "displayName": "ana marta silva",
      "photoUrl": "",
      "userId": "06374727522975360903"
     },
     "user_tz": 0
    },
    "id": "gPUzxgRR87WX",
    "outputId": "97e26cc9-76e7-4d30-f75a-fcd11487df8c"
   },
   "outputs": [
    {
     "data": {
      "text/plain": [
       "(422,)"
      ]
     },
     "execution_count": 17,
     "metadata": {},
     "output_type": "execute_result"
    }
   ],
   "source": [
    "test_set.classes.shape"
   ]
  },
  {
   "cell_type": "markdown",
   "metadata": {
    "id": "FjSdHDW0ViQ5"
   },
   "source": [
    "## Prediction assessment"
   ]
  },
  {
   "cell_type": "code",
   "execution_count": 18,
   "metadata": {
    "colab": {
     "base_uri": "https://localhost:8080/",
     "height": 0
    },
    "executionInfo": {
     "elapsed": 586,
     "status": "ok",
     "timestamp": 1616106640401,
     "user": {
      "displayName": "ana marta silva",
      "photoUrl": "",
      "userId": "06374727522975360903"
     },
     "user_tz": 0
    },
    "id": "sv1KJDNaJb9_",
    "outputId": "6c6d3d71-af37-435d-913b-a58a0c30580e"
   },
   "outputs": [
    {
     "name": "stdout",
     "output_type": "stream",
     "text": [
      "Confusion matrix\n",
      "[[188  23]\n",
      " [ 39 172]]\n"
     ]
    }
   ],
   "source": [
    "# confusion matrix\n",
    "print('Confusion matrix')\n",
    "print(confusion_matrix(test_set.classes, Y_pred))"
   ]
  },
  {
   "cell_type": "code",
   "execution_count": 19,
   "metadata": {},
   "outputs": [
    {
     "name": "stdout",
     "output_type": "stream",
     "text": [
      "Classification Report\n",
      "              precision    recall  f1-score   support\n",
      "\n",
      "     No Mask       0.83      0.89      0.86       211\n",
      "        Mask       0.88      0.82      0.85       211\n",
      "\n",
      "    accuracy                           0.85       422\n",
      "   macro avg       0.86      0.85      0.85       422\n",
      "weighted avg       0.86      0.85      0.85       422\n",
      "\n"
     ]
    }
   ],
   "source": [
    "# classification report\n",
    "print('Classification Report')\n",
    "target_names = ['No Mask', 'Mask']\n",
    "print(classification_report(test_set.classes, Y_pred, target_names=target_names))"
   ]
  },
  {
   "cell_type": "code",
   "execution_count": 20,
   "metadata": {},
   "outputs": [
    {
     "data": {
      "image/png": "[encoded data removed]",
      "text/plain": [
       "<Figure size 432x288 with 1 Axes>"
      ]
     },
     "metadata": {
      "needs_background": "light"
     },
     "output_type": "display_data"
    },
    {
     "data": {
      "image/png": "[encoded data removed]",
      "text/plain": [
       "<Figure size 432x288 with 1 Axes>"
      ]
     },
     "metadata": {
      "needs_background": "light"
     },
     "output_type": "display_data"
    }
   ],
   "source": [
    "# plotting\n",
    "\n",
    "# displaying the accuracy and loss over the training epochs\n",
    "acc = hist.history['accuracy']\n",
    "val_acc = hist.history['val_accuracy']\n",
    "loss = hist.history['loss']\n",
    "val_loss = hist.history['val_loss']\n",
    "\n",
    "epochs = range(1, len(acc) +1)\n",
    "\n",
    "plt.plot(epochs, acc, 'bo', label='Training acc')\n",
    "plt.plot(epochs, val_acc, 'b', label='Validation acc')\n",
    "plt.title('Training and validation accuracy')\n",
    "plt.legend()\n",
    "plt.figure()\n",
    "\n",
    "plt.plot(epochs, loss, 'bo', label='Training loss')\n",
    "plt.plot(epochs, val_loss, 'b', label='Validation loss')\n",
    "plt.title('Training and validation loss')\n",
    "plt.legend()\n",
    "\n",
    "plt.show()"
   ]
  },
  {
   "cell_type": "markdown",
   "metadata": {},
   "source": [
    "# Dropout & data augmentation\n"
   ]
  },
  {
   "cell_type": "code",
   "execution_count": 87,
   "metadata": {
    "id": "Mw9HnGrTl8kH"
   },
   "outputs": [],
   "source": [
    "# Sequential model | Create linear stack of layers\n",
    "model = Sequential()\n",
    "\n",
    "# Convolutional layer | Conv2D\n",
    "model.add(Conv2D(32, (3, 3), activation='relu', input_shape=(144,144, 3)))\n",
    "model.add(MaxPooling2D((2, 2)))\n",
    "# model.add(Conv2D(64, (3, 3), activation='relu'))\n",
    "# model.add(MaxPooling2D((2, 2)))\n",
    "\n",
    "# Flatten output of Conv\n",
    "model.add(Flatten())\n",
    "model.add(Dropout(0.2))\n",
    "# Hidden layer\n",
    "model.add(Dense(32, activation='relu'))\n",
    "# Output layer\n",
    "model.add(Dense(1, activation='sigmoid'))"
   ]
  },
  {
   "cell_type": "code",
   "execution_count": 92,
   "metadata": {},
   "outputs": [],
   "source": [
    "# compiling the model\n",
    "model.compile(optimizer = 'adam', \n",
    "              loss = 'binary_crossentropy',\n",
    "              metrics=['accuracy'])"
   ]
  },
  {
   "cell_type": "code",
   "execution_count": 88,
   "metadata": {
    "colab": {
     "base_uri": "https://localhost:8080/"
    },
    "executionInfo": {
     "elapsed": 570,
     "status": "ok",
     "timestamp": 1616104742922,
     "user": {
      "displayName": "ana marta silva",
      "photoUrl": "",
      "userId": "06374727522975360903"
     },
     "user_tz": 0
    },
    "id": "8KFLXQTYNvCn",
    "outputId": "67f86a40-df61-435b-f103-53f4a4c0204d"
   },
   "outputs": [
    {
     "name": "stdout",
     "output_type": "stream",
     "text": [
      "Model: \"sequential_5\"\n",
      "_________________________________________________________________\n",
      "Layer (type)                 Output Shape              Param #   \n",
      "=================================================================\n",
      "conv2d_5 (Conv2D)            (None, 142, 142, 32)      896       \n",
      "_________________________________________________________________\n",
      "max_pooling2d_5 (MaxPooling2 (None, 71, 71, 32)        0         \n",
      "_________________________________________________________________\n",
      "flatten_5 (Flatten)          (None, 161312)            0         \n",
      "_________________________________________________________________\n",
      "dropout_1 (Dropout)          (None, 161312)            0         \n",
      "_________________________________________________________________\n",
      "dense_4 (Dense)              (None, 32)                5162016   \n",
      "_________________________________________________________________\n",
      "dense_5 (Dense)              (None, 1)                 33        \n",
      "=================================================================\n",
      "Total params: 5,162,945\n",
      "Trainable params: 5,162,945\n",
      "Non-trainable params: 0\n",
      "_________________________________________________________________\n"
     ]
    }
   ],
   "source": [
    "# visualizing the model structure\n",
    "model.summary()"
   ]
  },
  {
   "cell_type": "code",
   "execution_count": 89,
   "metadata": {},
   "outputs": [],
   "source": [
    "#Data augmentation\n",
    "train_datagen = ImageDataGenerator(rescale = 1./255,\n",
    "                                   shear_range = 0.2,\n",
    "                                   zoom_range = 0.2,\n",
    "                                   horizontal_flip = True)\n",
    "validation_datagen=ImageDataGenerator(rescale = 1./255)\n",
    "# test set only rescaled\n",
    "test_datagen = ImageDataGenerator(rescale = 1./255)"
   ]
  },
  {
   "cell_type": "code",
   "execution_count": 90,
   "metadata": {
    "colab": {
     "base_uri": "https://localhost:8080/"
    },
    "executionInfo": {
     "elapsed": 740,
     "status": "ok",
     "timestamp": 1616104799395,
     "user": {
      "displayName": "ana marta silva",
      "photoUrl": "",
      "userId": "06374727522975360903"
     },
     "user_tz": 0
    },
    "id": "BD2vBwm9J6cJ",
    "outputId": "6c0c2bc5-f9fe-47ba-bbc3-1a1fd23f83c3"
   },
   "outputs": [
    {
     "name": "stdout",
     "output_type": "stream",
     "text": [
      "Found 1978 images belonging to 2 classes.\n",
      "Found 422 images belonging to 2 classes.\n",
      "Found 422 images belonging to 2 classes.\n"
     ]
    }
   ],
   "source": [
    "# importing the images\n",
    "# flow when numpy array input, flow_from_directory when the inputs are directly images\n",
    "\n",
    "training_set = train_datagen.flow_from_directory('train',\n",
    "                                                 target_size = (144, 144),\n",
    "                                                 batch_size = 40,\n",
    "                                                 color_mode=\"rgb\",\n",
    "                                                 class_mode = 'binary')\n",
    "\n",
    "\n",
    "validation_set = validation_datagen.flow_from_directory('validation', \n",
    "                                                        target_size = (144, 144),\n",
    "                                                        batch_size = 40,\n",
    "                                                        color_mode=\"rgb\",\n",
    "                                                        class_mode = 'binary')\n",
    "\n",
    "test_set = test_datagen.flow_from_directory('test',\n",
    "                                            target_size = (144, 144),\n",
    "                                            batch_size = 40,\n",
    "                                            class_mode = 'binary',\n",
    "                                            shuffle = False)\n"
   ]
  },
  {
   "cell_type": "code",
   "execution_count": 93,
   "metadata": {
    "colab": {
     "base_uri": "https://localhost:8080/"
    },
    "executionInfo": {
     "elapsed": 1395949,
     "status": "ok",
     "timestamp": 1616106357853,
     "user": {
      "displayName": "ana marta silva",
      "photoUrl": "",
      "userId": "06374727522975360903"
     },
     "user_tz": 0
    },
    "id": "uxF4aRPyJaAT",
    "outputId": "4a2dc7e8-9ba9-4a5c-9c06-8339156d4af9"
   },
   "outputs": [
    {
     "name": "stdout",
     "output_type": "stream",
     "text": [
      "Epoch 1/20\n",
      "49/49 [==============================] - 143s 3s/step - loss: 1.2320 - accuracy: 0.6279 - val_loss: 0.5804 - val_accuracy: 0.7300\n",
      "Epoch 2/20\n",
      "49/49 [==============================] - 139s 3s/step - loss: 0.4929 - accuracy: 0.7700 - val_loss: 0.4456 - val_accuracy: 0.8175\n",
      "Epoch 3/20\n",
      "49/49 [==============================] - 143s 3s/step - loss: 0.4842 - accuracy: 0.7609 - val_loss: 0.4060 - val_accuracy: 0.8200\n",
      "Epoch 4/20\n",
      "49/49 [==============================] - 145s 3s/step - loss: 0.3855 - accuracy: 0.8388 - val_loss: 0.4804 - val_accuracy: 0.7675\n",
      "Epoch 5/20\n",
      "49/49 [==============================] - 144s 3s/step - loss: 0.3783 - accuracy: 0.8326 - val_loss: 0.3877 - val_accuracy: 0.8175\n",
      "Epoch 6/20\n",
      "49/49 [==============================] - 146s 3s/step - loss: 0.3328 - accuracy: 0.8618 - val_loss: 0.4320 - val_accuracy: 0.7875\n",
      "Epoch 7/20\n",
      "49/49 [==============================] - 139s 3s/step - loss: 0.3410 - accuracy: 0.8559 - val_loss: 0.3611 - val_accuracy: 0.8350\n",
      "Epoch 8/20\n",
      "49/49 [==============================] - 141s 3s/step - loss: 0.3047 - accuracy: 0.8768 - val_loss: 0.3614 - val_accuracy: 0.8525\n",
      "Epoch 9/20\n",
      "49/49 [==============================] - 142s 3s/step - loss: 0.3021 - accuracy: 0.8736 - val_loss: 0.3802 - val_accuracy: 0.8425\n",
      "Epoch 10/20\n",
      "49/49 [==============================] - 136s 3s/step - loss: 0.2914 - accuracy: 0.8826 - val_loss: 0.3711 - val_accuracy: 0.8525\n",
      "Epoch 11/20\n",
      "49/49 [==============================] - 137s 3s/step - loss: 0.2659 - accuracy: 0.8902 - val_loss: 0.3772 - val_accuracy: 0.8500\n",
      "Epoch 12/20\n",
      "49/49 [==============================] - 140s 3s/step - loss: 0.2632 - accuracy: 0.8958 - val_loss: 0.4049 - val_accuracy: 0.8350\n",
      "Epoch 13/20\n",
      "49/49 [==============================] - 167s 3s/step - loss: 0.2492 - accuracy: 0.9043 - val_loss: 0.3706 - val_accuracy: 0.8575\n",
      "Epoch 14/20\n",
      "49/49 [==============================] - 169s 3s/step - loss: 0.2443 - accuracy: 0.9111 - val_loss: 0.3999 - val_accuracy: 0.8475\n",
      "Epoch 15/20\n",
      "49/49 [==============================] - 103s 2s/step - loss: 0.2279 - accuracy: 0.9110 - val_loss: 0.4229 - val_accuracy: 0.8400\n",
      "Epoch 16/20\n",
      "49/49 [==============================] - 72s 1s/step - loss: 0.2324 - accuracy: 0.9108 - val_loss: 0.3648 - val_accuracy: 0.8550\n",
      "Epoch 17/20\n",
      "49/49 [==============================] - 72s 1s/step - loss: 0.1956 - accuracy: 0.9211 - val_loss: 0.4030 - val_accuracy: 0.8450\n",
      "Epoch 18/20\n",
      "49/49 [==============================] - 71s 1s/step - loss: 0.2158 - accuracy: 0.9103 - val_loss: 0.3940 - val_accuracy: 0.8575\n",
      "Epoch 19/20\n",
      "49/49 [==============================] - 76s 2s/step - loss: 0.1759 - accuracy: 0.9254 - val_loss: 0.3688 - val_accuracy: 0.8625\n",
      "Epoch 20/20\n",
      "49/49 [==============================] - 75s 2s/step - loss: 0.2057 - accuracy: 0.9171 - val_loss: 0.4374 - val_accuracy: 0.8350\n"
     ]
    }
   ],
   "source": [
    "# fitting the model\n",
    "Epochs = 20\n",
    "\n",
    "\n",
    "hist=model.fit_generator(training_set,\n",
    "                         steps_per_epoch = 49,\n",
    "                         epochs = 20,\n",
    "                         validation_data = validation_set,\n",
    "                         validation_steps = 10\n",
    "                         )"
   ]
  },
  {
   "cell_type": "code",
   "execution_count": 94,
   "metadata": {
    "colab": {
     "base_uri": "https://localhost:8080/",
     "height": 0
    },
    "executionInfo": {
     "elapsed": 114388,
     "status": "ok",
     "timestamp": 1616106556096,
     "user": {
      "displayName": "ana marta silva",
      "photoUrl": "",
      "userId": "06374727522975360903"
     },
     "user_tz": 0
    },
    "id": "KAyMIJOBJb6y",
    "outputId": "76a4834f-da66-449a-95c4-10d2bd56aa35"
   },
   "outputs": [],
   "source": [
    "# FINALLY OUR MODEL PREDICT\n",
    "\n",
    "Y_pred = model.predict_generator(test_set, len(validation_set))    # ceil(num_of_test_samples / batch_size)\n",
    "\n",
    "# changing the result as True and False\n",
    "Y_pred = (Y_pred>0.5)\n"
   ]
  },
  {
   "cell_type": "code",
   "execution_count": 95,
   "metadata": {
    "colab": {
     "base_uri": "https://localhost:8080/",
     "height": 0
    },
    "executionInfo": {
     "elapsed": 550,
     "status": "ok",
     "timestamp": 1616106612303,
     "user": {
      "displayName": "ana marta silva",
      "photoUrl": "",
      "userId": "06374727522975360903"
     },
     "user_tz": 0
    },
    "id": "3QuF5zCj-oQj",
    "outputId": "0f928a9a-af8b-48ad-8655-3c68ee3d2890"
   },
   "outputs": [
    {
     "data": {
      "text/plain": [
       "(422, 1)"
      ]
     },
     "execution_count": 95,
     "metadata": {},
     "output_type": "execute_result"
    }
   ],
   "source": [
    "Y_pred.shape"
   ]
  },
  {
   "cell_type": "code",
   "execution_count": 96,
   "metadata": {
    "colab": {
     "base_uri": "https://localhost:8080/",
     "height": 0
    },
    "executionInfo": {
     "elapsed": 542,
     "status": "ok",
     "timestamp": 1616106614534,
     "user": {
      "displayName": "ana marta silva",
      "photoUrl": "",
      "userId": "06374727522975360903"
     },
     "user_tz": 0
    },
    "id": "gPUzxgRR87WX",
    "outputId": "97e26cc9-76e7-4d30-f75a-fcd11487df8c"
   },
   "outputs": [
    {
     "data": {
      "text/plain": [
       "(422,)"
      ]
     },
     "execution_count": 96,
     "metadata": {},
     "output_type": "execute_result"
    }
   ],
   "source": [
    "test_set.classes.shape"
   ]
  },
  {
   "cell_type": "markdown",
   "metadata": {
    "id": "FjSdHDW0ViQ5"
   },
   "source": [
    "## Prediction assessment"
   ]
  },
  {
   "cell_type": "code",
   "execution_count": 97,
   "metadata": {
    "colab": {
     "base_uri": "https://localhost:8080/",
     "height": 0
    },
    "executionInfo": {
     "elapsed": 586,
     "status": "ok",
     "timestamp": 1616106640401,
     "user": {
      "displayName": "ana marta silva",
      "photoUrl": "",
      "userId": "06374727522975360903"
     },
     "user_tz": 0
    },
    "id": "sv1KJDNaJb9_",
    "outputId": "6c6d3d71-af37-435d-913b-a58a0c30580e"
   },
   "outputs": [
    {
     "name": "stdout",
     "output_type": "stream",
     "text": [
      "Confusion matrix\n",
      "[[179  32]\n",
      " [ 20 191]]\n"
     ]
    }
   ],
   "source": [
    "# confusion matrix\n",
    "print('Confusion matrix')\n",
    "print(confusion_matrix(test_set.classes, Y_pred))"
   ]
  },
  {
   "cell_type": "code",
   "execution_count": 98,
   "metadata": {},
   "outputs": [
    {
     "name": "stdout",
     "output_type": "stream",
     "text": [
      "Classification Report\n",
      "              precision    recall  f1-score   support\n",
      "\n",
      "     No Mask       0.90      0.85      0.87       211\n",
      "        Mask       0.86      0.91      0.88       211\n",
      "\n",
      "    accuracy                           0.88       422\n",
      "   macro avg       0.88      0.88      0.88       422\n",
      "weighted avg       0.88      0.88      0.88       422\n",
      "\n"
     ]
    }
   ],
   "source": [
    "# classification report\n",
    "print('Classification Report')\n",
    "target_names = ['No Mask', 'Mask']\n",
    "print(classification_report(test_set.classes, Y_pred, target_names=target_names))"
   ]
  },
  {
   "cell_type": "code",
   "execution_count": 99,
   "metadata": {},
   "outputs": [
    {
     "data": {
      "image/png": "[encoded data removed]",
      "text/plain": [
       "<Figure size 432x288 with 1 Axes>"
      ]
     },
     "metadata": {
      "needs_background": "light"
     },
     "output_type": "display_data"
    },
    {
     "data": {
      "image/png": "[encoded data removed]",
      "text/plain": [
       "<Figure size 432x288 with 1 Axes>"
      ]
     },
     "metadata": {
      "needs_background": "light"
     },
     "output_type": "display_data"
    }
   ],
   "source": [
    "# plotting\n",
    "\n",
    "# displaying the accuracy and loss over the training epochs\n",
    "acc = hist.history['accuracy']\n",
    "val_acc = hist.history['val_accuracy']\n",
    "loss = hist.history['loss']\n",
    "val_loss = hist.history['val_loss']\n",
    "\n",
    "epochs = range(1, len(acc) +1)\n",
    "\n",
    "plt.plot(epochs, acc, 'bo', label='Training acc')\n",
    "plt.plot(epochs, val_acc, 'b', label='Validation acc')\n",
    "plt.title('Training and validation accuracy')\n",
    "plt.legend()\n",
    "plt.figure()\n",
    "\n",
    "plt.plot(epochs, loss, 'bo', label='Training loss')\n",
    "plt.plot(epochs, val_loss, 'b', label='Validation loss')\n",
    "plt.title('Training and validation loss')\n",
    "plt.legend()\n",
    "\n",
    "plt.show()"
   ]
  },
  {
   "cell_type": "markdown",
   "metadata": {},
   "source": [
    "# Dropout & data augmentation 3 - 2 dropout\n"
   ]
  },
  {
   "cell_type": "code",
   "execution_count": 134,
   "metadata": {
    "id": "Mw9HnGrTl8kH"
   },
   "outputs": [],
   "source": [
    "# Sequential model | Create linear stack of layers\n",
    "model = Sequential()\n",
    "\n",
    "# Convolutional layer | Conv2D\n",
    "model.add(Conv2D(32, (3, 3), activation='relu', input_shape=(150,150, 3)))\n",
    "model.add(MaxPooling2D((2, 2)))\n",
    "# model.add(Conv2D(64, (3, 3), activation='relu'))\n",
    "# model.add(MaxPooling2D((2, 2)))\n",
    "\n",
    "# Flatten output of Conv\n",
    "model.add(Flatten())\n",
    "model.add(Dropout(0.5))\n",
    "# Hidden layer\n",
    "model.add(Dense(32, activation='relu'))\n",
    "model.add(Dropout(0.5))\n",
    "# Output layer\n",
    "model.add(Dense(1, activation='sigmoid'))"
   ]
  },
  {
   "cell_type": "code",
   "execution_count": 135,
   "metadata": {},
   "outputs": [],
   "source": [
    "# compiling the model\n",
    "model.compile(optimizer = 'adam', \n",
    "              loss = 'binary_crossentropy',\n",
    "              metrics=['accuracy'])"
   ]
  },
  {
   "cell_type": "code",
   "execution_count": 136,
   "metadata": {
    "colab": {
     "base_uri": "https://localhost:8080/"
    },
    "executionInfo": {
     "elapsed": 570,
     "status": "ok",
     "timestamp": 1616104742922,
     "user": {
      "displayName": "ana marta silva",
      "photoUrl": "",
      "userId": "06374727522975360903"
     },
     "user_tz": 0
    },
    "id": "8KFLXQTYNvCn",
    "outputId": "67f86a40-df61-435b-f103-53f4a4c0204d"
   },
   "outputs": [
    {
     "name": "stdout",
     "output_type": "stream",
     "text": [
      "Model: \"sequential_8\"\n",
      "_________________________________________________________________\n",
      "Layer (type)                 Output Shape              Param #   \n",
      "=================================================================\n",
      "conv2d_8 (Conv2D)            (None, 148, 148, 32)      896       \n",
      "_________________________________________________________________\n",
      "max_pooling2d_8 (MaxPooling2 (None, 74, 74, 32)        0         \n",
      "_________________________________________________________________\n",
      "flatten_8 (Flatten)          (None, 175232)            0         \n",
      "_________________________________________________________________\n",
      "dropout_4 (Dropout)          (None, 175232)            0         \n",
      "_________________________________________________________________\n",
      "dense_10 (Dense)             (None, 32)                5607456   \n",
      "_________________________________________________________________\n",
      "dropout_5 (Dropout)          (None, 32)                0         \n",
      "_________________________________________________________________\n",
      "dense_11 (Dense)             (None, 1)                 33        \n",
      "=================================================================\n",
      "Total params: 5,608,385\n",
      "Trainable params: 5,608,385\n",
      "Non-trainable params: 0\n",
      "_________________________________________________________________\n"
     ]
    }
   ],
   "source": [
    "# visualizing the model structure\n",
    "model.summary()"
   ]
  },
  {
   "cell_type": "code",
   "execution_count": 137,
   "metadata": {},
   "outputs": [],
   "source": [
    "#Data augmentation\n",
    "train_datagen = ImageDataGenerator(rescale = 1./255,\n",
    "                                   shear_range = 0.2,\n",
    "                                   zoom_range = 0.2,\n",
    "                                   horizontal_flip = True)\n",
    "validation_datagen=ImageDataGenerator(rescale = 1./255)\n",
    "# test set only rescaled\n",
    "test_datagen = ImageDataGenerator(rescale = 1./255)"
   ]
  },
  {
   "cell_type": "code",
   "execution_count": 138,
   "metadata": {
    "colab": {
     "base_uri": "https://localhost:8080/"
    },
    "executionInfo": {
     "elapsed": 740,
     "status": "ok",
     "timestamp": 1616104799395,
     "user": {
      "displayName": "ana marta silva",
      "photoUrl": "",
      "userId": "06374727522975360903"
     },
     "user_tz": 0
    },
    "id": "BD2vBwm9J6cJ",
    "outputId": "6c0c2bc5-f9fe-47ba-bbc3-1a1fd23f83c3"
   },
   "outputs": [
    {
     "name": "stdout",
     "output_type": "stream",
     "text": [
      "Found 1978 images belonging to 2 classes.\n",
      "Found 422 images belonging to 2 classes.\n",
      "Found 422 images belonging to 2 classes.\n"
     ]
    }
   ],
   "source": [
    "# importing the images\n",
    "# flow when numpy array input, flow_from_directory when the inputs are directly images\n",
    "\n",
    "training_set = train_datagen.flow_from_directory('train',\n",
    "                                                 target_size = (150, 150),\n",
    "                                                 batch_size = 23,\n",
    "                                                 color_mode=\"rgb\",\n",
    "                                                 class_mode = 'binary')\n",
    "\n",
    "\n",
    "validation_set = validation_datagen.flow_from_directory('validation', \n",
    "                                                        target_size = (150, 150),\n",
    "                                                        batch_size = 23,\n",
    "                                                        color_mode=\"rgb\",\n",
    "                                                        class_mode = 'binary')\n",
    "\n",
    "test_set = test_datagen.flow_from_directory('test',\n",
    "                                            target_size = (150, 150),\n",
    "                                            batch_size = 23,\n",
    "                                            class_mode = 'binary',\n",
    "                                            shuffle = False)\n"
   ]
  },
  {
   "cell_type": "code",
   "execution_count": 139,
   "metadata": {
    "colab": {
     "base_uri": "https://localhost:8080/"
    },
    "executionInfo": {
     "elapsed": 1395949,
     "status": "ok",
     "timestamp": 1616106357853,
     "user": {
      "displayName": "ana marta silva",
      "photoUrl": "",
      "userId": "06374727522975360903"
     },
     "user_tz": 0
    },
    "id": "uxF4aRPyJaAT",
    "outputId": "4a2dc7e8-9ba9-4a5c-9c06-8339156d4af9"
   },
   "outputs": [
    {
     "name": "stdout",
     "output_type": "stream",
     "text": [
      "Epoch 1/10\n",
      "86/86 [==============================] - 146s 2s/step - loss: 1.2989 - accuracy: 0.6308 - val_loss: 0.4344 - val_accuracy: 0.8033\n",
      "Epoch 2/10\n",
      "86/86 [==============================] - 142s 2s/step - loss: 0.5109 - accuracy: 0.7621 - val_loss: 0.3906 - val_accuracy: 0.8294\n",
      "Epoch 3/10\n",
      "86/86 [==============================] - 142s 2s/step - loss: 0.4376 - accuracy: 0.8133 - val_loss: 0.3799 - val_accuracy: 0.8270\n",
      "Epoch 4/10\n",
      "86/86 [==============================] - 142s 2s/step - loss: 0.3859 - accuracy: 0.8259 - val_loss: 0.4041 - val_accuracy: 0.8033\n",
      "Epoch 5/10\n",
      "86/86 [==============================] - 141s 2s/step - loss: 0.3986 - accuracy: 0.8167 - val_loss: 0.3951 - val_accuracy: 0.8081\n",
      "Epoch 6/10\n",
      "86/86 [==============================] - 139s 2s/step - loss: 0.3831 - accuracy: 0.8167 - val_loss: 0.3987 - val_accuracy: 0.8152\n",
      "Epoch 7/10\n",
      "86/86 [==============================] - 144s 2s/step - loss: 0.3741 - accuracy: 0.8277 - val_loss: 0.4108 - val_accuracy: 0.8033\n",
      "Epoch 8/10\n",
      "86/86 [==============================] - 141s 2s/step - loss: 0.3727 - accuracy: 0.8393 - val_loss: 0.3864 - val_accuracy: 0.8199\n",
      "Epoch 9/10\n",
      "86/86 [==============================] - 145s 2s/step - loss: 0.3241 - accuracy: 0.8516 - val_loss: 0.3874 - val_accuracy: 0.8460\n",
      "Epoch 10/10\n",
      "86/86 [==============================] - 152s 2s/step - loss: 0.3408 - accuracy: 0.8575 - val_loss: 0.4090 - val_accuracy: 0.8223\n"
     ]
    }
   ],
   "source": [
    "# fitting the model\n",
    "Epochs = 10\n",
    "\n",
    "\n",
    "hist=model.fit_generator(training_set,\n",
    "                         steps_per_epoch = 86,\n",
    "                         epochs = 10,\n",
    "                         validation_data = validation_set,\n",
    "                         validation_steps = len(validation_set)\n",
    "                         )"
   ]
  },
  {
   "cell_type": "code",
   "execution_count": 140,
   "metadata": {
    "colab": {
     "base_uri": "https://localhost:8080/",
     "height": 0
    },
    "executionInfo": {
     "elapsed": 114388,
     "status": "ok",
     "timestamp": 1616106556096,
     "user": {
      "displayName": "ana marta silva",
      "photoUrl": "",
      "userId": "06374727522975360903"
     },
     "user_tz": 0
    },
    "id": "KAyMIJOBJb6y",
    "outputId": "76a4834f-da66-449a-95c4-10d2bd56aa35"
   },
   "outputs": [],
   "source": [
    "# FINALLY OUR MODEL PREDICT\n",
    "\n",
    "Y_pred = model.predict_generator(test_set, len(validation_set))    # ceil(num_of_test_samples / batch_size)\n",
    "\n",
    "# changing the result as True and False\n",
    "Y_pred = (Y_pred>0.5)\n"
   ]
  },
  {
   "cell_type": "code",
   "execution_count": 141,
   "metadata": {
    "colab": {
     "base_uri": "https://localhost:8080/",
     "height": 0
    },
    "executionInfo": {
     "elapsed": 550,
     "status": "ok",
     "timestamp": 1616106612303,
     "user": {
      "displayName": "ana marta silva",
      "photoUrl": "",
      "userId": "06374727522975360903"
     },
     "user_tz": 0
    },
    "id": "3QuF5zCj-oQj",
    "outputId": "0f928a9a-af8b-48ad-8655-3c68ee3d2890"
   },
   "outputs": [
    {
     "data": {
      "text/plain": [
       "(422, 1)"
      ]
     },
     "execution_count": 141,
     "metadata": {},
     "output_type": "execute_result"
    }
   ],
   "source": [
    "Y_pred.shape"
   ]
  },
  {
   "cell_type": "code",
   "execution_count": 142,
   "metadata": {
    "colab": {
     "base_uri": "https://localhost:8080/",
     "height": 0
    },
    "executionInfo": {
     "elapsed": 542,
     "status": "ok",
     "timestamp": 1616106614534,
     "user": {
      "displayName": "ana marta silva",
      "photoUrl": "",
      "userId": "06374727522975360903"
     },
     "user_tz": 0
    },
    "id": "gPUzxgRR87WX",
    "outputId": "97e26cc9-76e7-4d30-f75a-fcd11487df8c"
   },
   "outputs": [
    {
     "data": {
      "text/plain": [
       "(422,)"
      ]
     },
     "execution_count": 142,
     "metadata": {},
     "output_type": "execute_result"
    }
   ],
   "source": [
    "test_set.classes.shape"
   ]
  },
  {
   "cell_type": "markdown",
   "metadata": {
    "id": "FjSdHDW0ViQ5"
   },
   "source": [
    "## Prediction assessment"
   ]
  },
  {
   "cell_type": "code",
   "execution_count": 143,
   "metadata": {
    "colab": {
     "base_uri": "https://localhost:8080/",
     "height": 0
    },
    "executionInfo": {
     "elapsed": 586,
     "status": "ok",
     "timestamp": 1616106640401,
     "user": {
      "displayName": "ana marta silva",
      "photoUrl": "",
      "userId": "06374727522975360903"
     },
     "user_tz": 0
    },
    "id": "sv1KJDNaJb9_",
    "outputId": "6c6d3d71-af37-435d-913b-a58a0c30580e"
   },
   "outputs": [
    {
     "name": "stdout",
     "output_type": "stream",
     "text": [
      "Confusion matrix\n",
      "[[178  33]\n",
      " [ 34 177]]\n"
     ]
    }
   ],
   "source": [
    "# confusion matrix\n",
    "print('Confusion matrix')\n",
    "print(confusion_matrix(test_set.classes, Y_pred))"
   ]
  },
  {
   "cell_type": "code",
   "execution_count": 144,
   "metadata": {},
   "outputs": [
    {
     "name": "stdout",
     "output_type": "stream",
     "text": [
      "Classification Report\n",
      "              precision    recall  f1-score   support\n",
      "\n",
      "     No Mask       0.84      0.84      0.84       211\n",
      "        Mask       0.84      0.84      0.84       211\n",
      "\n",
      "    accuracy                           0.84       422\n",
      "   macro avg       0.84      0.84      0.84       422\n",
      "weighted avg       0.84      0.84      0.84       422\n",
      "\n"
     ]
    }
   ],
   "source": [
    "# classification report\n",
    "print('Classification Report')\n",
    "target_names = ['No Mask', 'Mask']\n",
    "print(classification_report(test_set.classes, Y_pred, target_names=target_names))"
   ]
  },
  {
   "cell_type": "code",
   "execution_count": 145,
   "metadata": {},
   "outputs": [
    {
     "data": {
      "image/png": "[encoded data removed]",
      "text/plain": [
       "<Figure size 432x288 with 1 Axes>"
      ]
     },
     "metadata": {
      "needs_background": "light"
     },
     "output_type": "display_data"
    },
    {
     "data": {
      "image/png": "[encoded data removed]",
      "text/plain": [
       "<Figure size 432x288 with 1 Axes>"
      ]
     },
     "metadata": {
      "needs_background": "light"
     },
     "output_type": "display_data"
    }
   ],
   "source": [
    "# plotting\n",
    "\n",
    "# displaying the accuracy and loss over the training epochs\n",
    "acc = hist.history['accuracy']\n",
    "val_acc = hist.history['val_accuracy']\n",
    "loss = hist.history['loss']\n",
    "val_loss = hist.history['val_loss']\n",
    "\n",
    "epochs = range(1, len(acc) +1)\n",
    "\n",
    "plt.plot(epochs, acc, 'bo', label='Training acc')\n",
    "plt.plot(epochs, val_acc, 'b', label='Validation acc')\n",
    "plt.title('Training and validation accuracy')\n",
    "plt.legend()\n",
    "plt.figure()\n",
    "\n",
    "plt.plot(epochs, loss, 'bo', label='Training loss')\n",
    "plt.plot(epochs, val_loss, 'b', label='Validation loss')\n",
    "plt.title('Training and validation loss')\n",
    "plt.legend()\n",
    "\n",
    "plt.show()"
   ]
  },
  {
   "cell_type": "markdown",
   "metadata": {},
   "source": [
    "# Dropout & data augmentation 2\n"
   ]
  },
  {
   "cell_type": "code",
   "execution_count": 122,
   "metadata": {
    "id": "Mw9HnGrTl8kH"
   },
   "outputs": [],
   "source": [
    "# Sequential model | Create linear stack of layers\n",
    "model = Sequential()\n",
    "\n",
    "# Convolutional layer | Conv2D\n",
    "model.add(Conv2D(32, (3, 3), activation='relu', input_shape=(150,150, 3)))\n",
    "model.add(MaxPooling2D((2, 2)))\n",
    "# model.add(Conv2D(64, (3, 3), activation='relu'))\n",
    "# model.add(MaxPooling2D((2, 2)))\n",
    "\n",
    "# Flatten output of Conv\n",
    "model.add(Flatten())\n",
    "model.add(Dropout(0.5))\n",
    "# Hidden layer\n",
    "model.add(Dense(32, activation='relu'))\n",
    "# Output layer\n",
    "model.add(Dense(1, activation='sigmoid'))"
   ]
  },
  {
   "cell_type": "code",
   "execution_count": 123,
   "metadata": {},
   "outputs": [],
   "source": [
    "# compiling the model\n",
    "model.compile(optimizer = 'adam', \n",
    "              loss = 'binary_crossentropy',\n",
    "              metrics=['accuracy'])"
   ]
  },
  {
   "cell_type": "code",
   "execution_count": 124,
   "metadata": {
    "colab": {
     "base_uri": "https://localhost:8080/"
    },
    "executionInfo": {
     "elapsed": 570,
     "status": "ok",
     "timestamp": 1616104742922,
     "user": {
      "displayName": "ana marta silva",
      "photoUrl": "",
      "userId": "06374727522975360903"
     },
     "user_tz": 0
    },
    "id": "8KFLXQTYNvCn",
    "outputId": "67f86a40-df61-435b-f103-53f4a4c0204d"
   },
   "outputs": [
    {
     "name": "stdout",
     "output_type": "stream",
     "text": [
      "Model: \"sequential_7\"\n",
      "_________________________________________________________________\n",
      "Layer (type)                 Output Shape              Param #   \n",
      "=================================================================\n",
      "conv2d_7 (Conv2D)            (None, 148, 148, 32)      896       \n",
      "_________________________________________________________________\n",
      "max_pooling2d_7 (MaxPooling2 (None, 74, 74, 32)        0         \n",
      "_________________________________________________________________\n",
      "flatten_7 (Flatten)          (None, 175232)            0         \n",
      "_________________________________________________________________\n",
      "dropout_3 (Dropout)          (None, 175232)            0         \n",
      "_________________________________________________________________\n",
      "dense_8 (Dense)              (None, 32)                5607456   \n",
      "_________________________________________________________________\n",
      "dense_9 (Dense)              (None, 1)                 33        \n",
      "=================================================================\n",
      "Total params: 5,608,385\n",
      "Trainable params: 5,608,385\n",
      "Non-trainable params: 0\n",
      "_________________________________________________________________\n"
     ]
    }
   ],
   "source": [
    "# visualizing the model structure\n",
    "model.summary()"
   ]
  },
  {
   "cell_type": "code",
   "execution_count": 125,
   "metadata": {},
   "outputs": [],
   "source": [
    "#Data augmentation\n",
    "train_datagen = ImageDataGenerator(rescale = 1./255,\n",
    "                                   shear_range = 0.2,\n",
    "                                   zoom_range = 0.2,\n",
    "                                   horizontal_flip = True)\n",
    "validation_datagen=ImageDataGenerator(rescale = 1./255)\n",
    "# test set only rescaled\n",
    "test_datagen = ImageDataGenerator(rescale = 1./255)"
   ]
  },
  {
   "cell_type": "code",
   "execution_count": 126,
   "metadata": {
    "colab": {
     "base_uri": "https://localhost:8080/"
    },
    "executionInfo": {
     "elapsed": 740,
     "status": "ok",
     "timestamp": 1616104799395,
     "user": {
      "displayName": "ana marta silva",
      "photoUrl": "",
      "userId": "06374727522975360903"
     },
     "user_tz": 0
    },
    "id": "BD2vBwm9J6cJ",
    "outputId": "6c0c2bc5-f9fe-47ba-bbc3-1a1fd23f83c3"
   },
   "outputs": [
    {
     "name": "stdout",
     "output_type": "stream",
     "text": [
      "Found 1978 images belonging to 2 classes.\n",
      "Found 422 images belonging to 2 classes.\n",
      "Found 422 images belonging to 2 classes.\n"
     ]
    }
   ],
   "source": [
    "# importing the images\n",
    "# flow when numpy array input, flow_from_directory when the inputs are directly images\n",
    "\n",
    "training_set = train_datagen.flow_from_directory('train',\n",
    "                                                 target_size = (150, 150),\n",
    "                                                 batch_size = 23,\n",
    "                                                 color_mode=\"rgb\",\n",
    "                                                 class_mode = 'binary')\n",
    "\n",
    "\n",
    "validation_set = validation_datagen.flow_from_directory('validation', \n",
    "                                                        target_size = (150, 150),\n",
    "                                                        batch_size = 23,\n",
    "                                                        color_mode=\"rgb\",\n",
    "                                                        class_mode = 'binary')\n",
    "\n",
    "test_set = test_datagen.flow_from_directory('test',\n",
    "                                            target_size = (150, 150),\n",
    "                                            batch_size = 23,\n",
    "                                            class_mode = 'binary',\n",
    "                                            shuffle = False)\n"
   ]
  },
  {
   "cell_type": "code",
   "execution_count": 127,
   "metadata": {
    "colab": {
     "base_uri": "https://localhost:8080/"
    },
    "executionInfo": {
     "elapsed": 1395949,
     "status": "ok",
     "timestamp": 1616106357853,
     "user": {
      "displayName": "ana marta silva",
      "photoUrl": "",
      "userId": "06374727522975360903"
     },
     "user_tz": 0
    },
    "id": "uxF4aRPyJaAT",
    "outputId": "4a2dc7e8-9ba9-4a5c-9c06-8339156d4af9"
   },
   "outputs": [
    {
     "name": "stdout",
     "output_type": "stream",
     "text": [
      "Epoch 1/10\n",
      "86/86 [==============================] - 139s 2s/step - loss: 1.0373 - accuracy: 0.6657 - val_loss: 0.4342 - val_accuracy: 0.7796\n",
      "Epoch 2/10\n",
      "86/86 [==============================] - 138s 2s/step - loss: 0.4721 - accuracy: 0.7658 - val_loss: 0.4267 - val_accuracy: 0.8057\n",
      "Epoch 3/10\n",
      "86/86 [==============================] - 134s 2s/step - loss: 0.4140 - accuracy: 0.8145 - val_loss: 0.4138 - val_accuracy: 0.7962\n",
      "Epoch 4/10\n",
      "86/86 [==============================] - 143s 2s/step - loss: 0.3714 - accuracy: 0.8274 - val_loss: 0.3925 - val_accuracy: 0.8081\n",
      "Epoch 5/10\n",
      "86/86 [==============================] - 143s 2s/step - loss: 0.3291 - accuracy: 0.8632 - val_loss: 0.3771 - val_accuracy: 0.8199\n",
      "Epoch 6/10\n",
      "86/86 [==============================] - 142s 2s/step - loss: 0.3306 - accuracy: 0.8485 - val_loss: 0.3551 - val_accuracy: 0.8460\n",
      "Epoch 7/10\n",
      "86/86 [==============================] - 139s 2s/step - loss: 0.3038 - accuracy: 0.8747 - val_loss: 0.4315 - val_accuracy: 0.8199\n",
      "Epoch 8/10\n",
      "86/86 [==============================] - 138s 2s/step - loss: 0.2872 - accuracy: 0.8899 - val_loss: 0.4195 - val_accuracy: 0.8341\n",
      "Epoch 9/10\n",
      "86/86 [==============================] - 138s 2s/step - loss: 0.2697 - accuracy: 0.8891 - val_loss: 0.3745 - val_accuracy: 0.8507\n",
      "Epoch 10/10\n",
      "86/86 [==============================] - 139s 2s/step - loss: 0.2640 - accuracy: 0.8922 - val_loss: 0.3482 - val_accuracy: 0.8626\n"
     ]
    }
   ],
   "source": [
    "# fitting the model\n",
    "Epochs = 10\n",
    "\n",
    "\n",
    "hist=model.fit_generator(training_set,\n",
    "                         steps_per_epoch = 86,\n",
    "                         epochs = 10,\n",
    "                         validation_data = validation_set,\n",
    "                         validation_steps = len(validation_set)\n",
    "                         )"
   ]
  },
  {
   "cell_type": "code",
   "execution_count": 128,
   "metadata": {
    "colab": {
     "base_uri": "https://localhost:8080/",
     "height": 0
    },
    "executionInfo": {
     "elapsed": 114388,
     "status": "ok",
     "timestamp": 1616106556096,
     "user": {
      "displayName": "ana marta silva",
      "photoUrl": "",
      "userId": "06374727522975360903"
     },
     "user_tz": 0
    },
    "id": "KAyMIJOBJb6y",
    "outputId": "76a4834f-da66-449a-95c4-10d2bd56aa35"
   },
   "outputs": [],
   "source": [
    "# FINALLY OUR MODEL PREDICT\n",
    "\n",
    "Y_pred = model.predict_generator(test_set, len(validation_set))    # ceil(num_of_test_samples / batch_size)\n",
    "\n",
    "# changing the result as True and False\n",
    "Y_pred = (Y_pred>0.5)\n"
   ]
  },
  {
   "cell_type": "code",
   "execution_count": 129,
   "metadata": {
    "colab": {
     "base_uri": "https://localhost:8080/",
     "height": 0
    },
    "executionInfo": {
     "elapsed": 550,
     "status": "ok",
     "timestamp": 1616106612303,
     "user": {
      "displayName": "ana marta silva",
      "photoUrl": "",
      "userId": "06374727522975360903"
     },
     "user_tz": 0
    },
    "id": "3QuF5zCj-oQj",
    "outputId": "0f928a9a-af8b-48ad-8655-3c68ee3d2890"
   },
   "outputs": [
    {
     "data": {
      "text/plain": [
       "(422, 1)"
      ]
     },
     "execution_count": 129,
     "metadata": {},
     "output_type": "execute_result"
    }
   ],
   "source": [
    "Y_pred.shape"
   ]
  },
  {
   "cell_type": "code",
   "execution_count": 130,
   "metadata": {
    "colab": {
     "base_uri": "https://localhost:8080/",
     "height": 0
    },
    "executionInfo": {
     "elapsed": 542,
     "status": "ok",
     "timestamp": 1616106614534,
     "user": {
      "displayName": "ana marta silva",
      "photoUrl": "",
      "userId": "06374727522975360903"
     },
     "user_tz": 0
    },
    "id": "gPUzxgRR87WX",
    "outputId": "97e26cc9-76e7-4d30-f75a-fcd11487df8c"
   },
   "outputs": [
    {
     "data": {
      "text/plain": [
       "(422,)"
      ]
     },
     "execution_count": 130,
     "metadata": {},
     "output_type": "execute_result"
    }
   ],
   "source": [
    "test_set.classes.shape"
   ]
  },
  {
   "cell_type": "markdown",
   "metadata": {
    "id": "FjSdHDW0ViQ5"
   },
   "source": [
    "## Prediction assessment"
   ]
  },
  {
   "cell_type": "code",
   "execution_count": 131,
   "metadata": {
    "colab": {
     "base_uri": "https://localhost:8080/",
     "height": 0
    },
    "executionInfo": {
     "elapsed": 586,
     "status": "ok",
     "timestamp": 1616106640401,
     "user": {
      "displayName": "ana marta silva",
      "photoUrl": "",
      "userId": "06374727522975360903"
     },
     "user_tz": 0
    },
    "id": "sv1KJDNaJb9_",
    "outputId": "6c6d3d71-af37-435d-913b-a58a0c30580e"
   },
   "outputs": [
    {
     "name": "stdout",
     "output_type": "stream",
     "text": [
      "Confusion matrix\n",
      "[[183  28]\n",
      " [ 31 180]]\n"
     ]
    }
   ],
   "source": [
    "# confusion matrix\n",
    "print('Confusion matrix')\n",
    "print(confusion_matrix(test_set.classes, Y_pred))"
   ]
  },
  {
   "cell_type": "code",
   "execution_count": 132,
   "metadata": {},
   "outputs": [
    {
     "name": "stdout",
     "output_type": "stream",
     "text": [
      "Classification Report\n",
      "              precision    recall  f1-score   support\n",
      "\n",
      "     No Mask       0.86      0.87      0.86       211\n",
      "        Mask       0.87      0.85      0.86       211\n",
      "\n",
      "    accuracy                           0.86       422\n",
      "   macro avg       0.86      0.86      0.86       422\n",
      "weighted avg       0.86      0.86      0.86       422\n",
      "\n"
     ]
    }
   ],
   "source": [
    "# classification report\n",
    "print('Classification Report')\n",
    "target_names = ['No Mask', 'Mask']\n",
    "print(classification_report(test_set.classes, Y_pred, target_names=target_names))"
   ]
  },
  {
   "cell_type": "code",
   "execution_count": 133,
   "metadata": {},
   "outputs": [
    {
     "data": {
      "image/png": "[encoded data removed]",
      "text/plain": [
       "<Figure size 432x288 with 1 Axes>"
      ]
     },
     "metadata": {
      "needs_background": "light"
     },
     "output_type": "display_data"
    },
    {
     "data": {
      "image/png": "[encoded data removed]",
      "text/plain": [
       "<Figure size 432x288 with 1 Axes>"
      ]
     },
     "metadata": {
      "needs_background": "light"
     },
     "output_type": "display_data"
    }
   ],
   "source": [
    "# plotting\n",
    "\n",
    "# displaying the accuracy and loss over the training epochs\n",
    "acc = hist.history['accuracy']\n",
    "val_acc = hist.history['val_accuracy']\n",
    "loss = hist.history['loss']\n",
    "val_loss = hist.history['val_loss']\n",
    "\n",
    "epochs = range(1, len(acc) +1)\n",
    "\n",
    "plt.plot(epochs, acc, 'bo', label='Training acc')\n",
    "plt.plot(epochs, val_acc, 'b', label='Validation acc')\n",
    "plt.title('Training and validation accuracy')\n",
    "plt.legend()\n",
    "plt.figure()\n",
    "\n",
    "plt.plot(epochs, loss, 'bo', label='Training loss')\n",
    "plt.plot(epochs, val_loss, 'b', label='Validation loss')\n",
    "plt.title('Training and validation loss')\n",
    "plt.legend()\n",
    "\n",
    "plt.show()"
   ]
  },
  {
   "cell_type": "code",
   "execution_count": null,
   "metadata": {},
   "outputs": [],
   "source": []
  },
  {
   "cell_type": "code",
   "execution_count": null,
   "metadata": {},
   "outputs": [],
   "source": []
  },
  {
   "cell_type": "code",
   "execution_count": null,
   "metadata": {},
   "outputs": [],
   "source": []
  },
  {
   "cell_type": "code",
   "execution_count": null,
   "metadata": {},
   "outputs": [],
   "source": [
    "Y_pred.target_names"
   ]
  },
  {
   "cell_type": "code",
   "execution_count": null,
   "metadata": {},
   "outputs": [],
   "source": [
    "def plot_gallery(images, titles, h, w, n_row=3, n_col=4):\n",
    "    \"\"\"Helper function to plot a gallery of portraits\"\"\"\n",
    "    plt.figure(figsize=(1.8 * n_col, 2.4 * n_row))\n",
    "    plt.subplots_adjust(bottom=0, left=.01, right=.99, top=.90, hspace=.35)\n",
    "    for i in range(n_row * n_col):\n",
    "        plt.subplot(n_row, n_col, i + 1)\n",
    "        plt.imshow(images[i].reshape((h, w)), cmap=plt.cm.gray)\n",
    "        plt.title(titles[i], size=12)\n",
    "        plt.xticks(())\n",
    "        plt.yticks(())\n",
    "\n",
    "\n",
    "# plot the result of the prediction on a portion of the test set\n",
    "\n",
    "def title(y_pred, y_test, target_names, i):\n",
    "    pred_name = target_names[y_pred[i]].rsplit(' ', 1)[-1]\n",
    "    true_name = target_names[y_test[i]].rsplit(' ', 1)[-1]\n",
    "    return 'predicted: %s\\ntrue:      %s' % (pred_name, true_name)\n",
    "\n",
    "prediction_titles = [title(y_pred, y_test, target_names, i)\n",
    "                     for i in range(y_pred.shape[0])]\n",
    "\n",
    "plot_gallery(X_test, prediction_titles, h, w)\n",
    "\n",
    "plt.show()"
   ]
  },
  {
   "cell_type": "code",
   "execution_count": 102,
   "metadata": {},
   "outputs": [
    {
     "ename": "AttributeError",
     "evalue": "'ImageDataGenerator' object has no attribute 'take'",
     "output_type": "error",
     "traceback": [
      "\u001b[1;31m---------------------------------------------------------------------------\u001b[0m",
      "\u001b[1;31mAttributeError\u001b[0m                            Traceback (most recent call last)",
      "\u001b[1;32m<ipython-input-102-da8b01ab9e8c>\u001b[0m in \u001b[0;36m<module>\u001b[1;34m\u001b[0m\n\u001b[0;32m      2\u001b[0m \u001b[1;33m\u001b[0m\u001b[0m\n\u001b[0;32m      3\u001b[0m \u001b[0mplt\u001b[0m\u001b[1;33m.\u001b[0m\u001b[0mfigure\u001b[0m\u001b[1;33m(\u001b[0m\u001b[0mfigsize\u001b[0m\u001b[1;33m=\u001b[0m\u001b[1;33m(\u001b[0m\u001b[1;36m10\u001b[0m\u001b[1;33m,\u001b[0m \u001b[1;36m10\u001b[0m\u001b[1;33m)\u001b[0m\u001b[1;33m)\u001b[0m\u001b[1;33m\u001b[0m\u001b[1;33m\u001b[0m\u001b[0m\n\u001b[1;32m----> 4\u001b[1;33m \u001b[1;32mfor\u001b[0m \u001b[0mi\u001b[0m\u001b[1;33m,\u001b[0m \u001b[1;33m(\u001b[0m\u001b[0mimage\u001b[0m\u001b[1;33m,\u001b[0m \u001b[0mlabel\u001b[0m\u001b[1;33m)\u001b[0m \u001b[1;32min\u001b[0m \u001b[0menumerate\u001b[0m\u001b[1;33m(\u001b[0m\u001b[0mtest_datagen\u001b[0m\u001b[1;33m.\u001b[0m\u001b[0mtake\u001b[0m\u001b[1;33m(\u001b[0m\u001b[1;36m9\u001b[0m\u001b[1;33m)\u001b[0m\u001b[1;33m)\u001b[0m\u001b[1;33m:\u001b[0m\u001b[1;33m\u001b[0m\u001b[1;33m\u001b[0m\u001b[0m\n\u001b[0m\u001b[0;32m      5\u001b[0m     \u001b[0max\u001b[0m \u001b[1;33m=\u001b[0m \u001b[0mplt\u001b[0m\u001b[1;33m.\u001b[0m\u001b[0msubplot\u001b[0m\u001b[1;33m(\u001b[0m\u001b[1;36m3\u001b[0m\u001b[1;33m,\u001b[0m \u001b[1;36m3\u001b[0m\u001b[1;33m,\u001b[0m \u001b[0mi\u001b[0m \u001b[1;33m+\u001b[0m \u001b[1;36m1\u001b[0m\u001b[1;33m)\u001b[0m\u001b[1;33m\u001b[0m\u001b[1;33m\u001b[0m\u001b[0m\n\u001b[0;32m      6\u001b[0m     \u001b[0mplt\u001b[0m\u001b[1;33m.\u001b[0m\u001b[0mimshow\u001b[0m\u001b[1;33m(\u001b[0m\u001b[0mimage\u001b[0m\u001b[1;33m)\u001b[0m\u001b[1;33m\u001b[0m\u001b[1;33m\u001b[0m\u001b[0m\n",
      "\u001b[1;31mAttributeError\u001b[0m: 'ImageDataGenerator' object has no attribute 'take'"
     ]
    },
    {
     "data": {
      "text/plain": [
       "<Figure size 720x720 with 0 Axes>"
      ]
     },
     "metadata": {},
     "output_type": "display_data"
    }
   ],
   "source": [
    "import matplotlib.pyplot as plt\n",
    "\n",
    "plt.figure(figsize=(10, 10))\n",
    "for i, (image, label) in enumerate(test_datagen.take(9)):\n",
    "    ax = plt.subplot(3, 3, i + 1)\n",
    "    plt.imshow(image)\n",
    "    plt.title(int(label))\n",
    "    plt.axis(\"off\")"
   ]
  },
  {
   "cell_type": "code",
   "execution_count": 108,
   "metadata": {},
   "outputs": [],
   "source": [
    "import pandas as pd\n",
    "import numpy as np \n",
    "import itertools\n",
    "import keras\n",
    "from sklearn import metrics\n",
    "from sklearn.metrics import confusion_matrix\n",
    "from keras.preprocessing.image import ImageDataGenerator, img_to_array, load_img \n",
    "from keras.models import Sequential \n",
    "from keras import optimizers\n",
    "from keras.preprocessing import image\n",
    "from keras.layers import Dropout, Flatten, Dense \n",
    "from keras import applications \n",
    "from keras.utils.np_utils import to_categorical \n",
    "import matplotlib.pyplot as plt \n",
    "import matplotlib.image as mpimg\n",
    "%matplotlib inline\n",
    "import math \n",
    "import datetime\n",
    "import time"
   ]
  },
  {
   "cell_type": "code",
   "execution_count": 109,
   "metadata": {},
   "outputs": [
    {
     "name": "stdout",
     "output_type": "stream",
     "text": [
      "[INFO] loading and preprocessing image…\n",
      "WARNING:tensorflow:Model was constructed with shape (None, 144, 144, 3) for input KerasTensor(type_spec=TensorSpec(shape=(None, 144, 144, 3), dtype=tf.float32, name='conv2d_5_input'), name='conv2d_5_input', description=\"created by layer 'conv2d_5_input'\"), but it was called on an input with incompatible shape (None, 224, 224, 3).\n"
     ]
    },
    {
     "ename": "ValueError",
     "evalue": "in user code:\n\n    C:\\Users\\marta\\anaconda3\\lib\\site-packages\\tensorflow\\python\\keras\\engine\\training.py:1478 predict_function  *\n        return step_function(self, iterator)\n    C:\\Users\\marta\\anaconda3\\lib\\site-packages\\tensorflow\\python\\keras\\engine\\training.py:1468 step_function  **\n        outputs = model.distribute_strategy.run(run_step, args=(data,))\n    C:\\Users\\marta\\anaconda3\\lib\\site-packages\\tensorflow\\python\\distribute\\distribute_lib.py:1259 run\n        return self._extended.call_for_each_replica(fn, args=args, kwargs=kwargs)\n    C:\\Users\\marta\\anaconda3\\lib\\site-packages\\tensorflow\\python\\distribute\\distribute_lib.py:2730 call_for_each_replica\n        return self._call_for_each_replica(fn, args, kwargs)\n    C:\\Users\\marta\\anaconda3\\lib\\site-packages\\tensorflow\\python\\distribute\\distribute_lib.py:3417 _call_for_each_replica\n        return fn(*args, **kwargs)\n    C:\\Users\\marta\\anaconda3\\lib\\site-packages\\tensorflow\\python\\keras\\engine\\training.py:1461 run_step  **\n        outputs = model.predict_step(data)\n    C:\\Users\\marta\\anaconda3\\lib\\site-packages\\tensorflow\\python\\keras\\engine\\training.py:1434 predict_step\n        return self(x, training=False)\n    C:\\Users\\marta\\anaconda3\\lib\\site-packages\\tensorflow\\python\\keras\\engine\\base_layer.py:1012 __call__\n        outputs = call_fn(inputs, *args, **kwargs)\n    C:\\Users\\marta\\anaconda3\\lib\\site-packages\\tensorflow\\python\\keras\\engine\\sequential.py:375 call\n        return super(Sequential, self).call(inputs, training=training, mask=mask)\n    C:\\Users\\marta\\anaconda3\\lib\\site-packages\\tensorflow\\python\\keras\\engine\\functional.py:424 call\n        return self._run_internal_graph(\n    C:\\Users\\marta\\anaconda3\\lib\\site-packages\\tensorflow\\python\\keras\\engine\\functional.py:560 _run_internal_graph\n        outputs = node.layer(*args, **kwargs)\n    C:\\Users\\marta\\anaconda3\\lib\\site-packages\\tensorflow\\python\\keras\\engine\\base_layer.py:998 __call__\n        input_spec.assert_input_compatibility(self.input_spec, inputs, self.name)\n    C:\\Users\\marta\\anaconda3\\lib\\site-packages\\tensorflow\\python\\keras\\engine\\input_spec.py:255 assert_input_compatibility\n        raise ValueError(\n\n    ValueError: Input 0 of layer dense_4 is incompatible with the layer: expected axis -1 of input shape to have value 161312 but received input with shape (None, 394272)\n",
     "output_type": "error",
     "traceback": [
      "\u001b[1;31m---------------------------------------------------------------------------\u001b[0m",
      "\u001b[1;31mValueError\u001b[0m                                Traceback (most recent call last)",
      "\u001b[1;32m<ipython-input-109-395053b308f6>\u001b[0m in \u001b[0;36m<module>\u001b[1;34m\u001b[0m\n\u001b[0;32m     25\u001b[0m   \u001b[1;32mreturn\u001b[0m \u001b[0mload_img\u001b[0m\u001b[1;33m(\u001b[0m\u001b[0mpath\u001b[0m\u001b[1;33m)\u001b[0m\u001b[1;33m\u001b[0m\u001b[1;33m\u001b[0m\u001b[0m\n\u001b[0;32m     26\u001b[0m \u001b[0mpath\u001b[0m \u001b[1;33m=\u001b[0m \u001b[1;34mr\"C:\\Users\\marta\\Documents\\Big data\\NOVA IMS\\20202021\\2nd Semester\\Deep learning\\Project\\test\\masks\\Image1275.jpg\"\u001b[0m\u001b[1;33m\u001b[0m\u001b[1;33m\u001b[0m\u001b[0m\n\u001b[1;32m---> 27\u001b[1;33m \u001b[0mtest_single_image\u001b[0m\u001b[1;33m(\u001b[0m\u001b[0mpath\u001b[0m\u001b[1;33m)\u001b[0m\u001b[1;33m\u001b[0m\u001b[1;33m\u001b[0m\u001b[0m\n\u001b[0m",
      "\u001b[1;32m<ipython-input-109-395053b308f6>\u001b[0m in \u001b[0;36mtest_single_image\u001b[1;34m(path)\u001b[0m\n\u001b[0;32m     10\u001b[0m   \u001b[0mimages\u001b[0m \u001b[1;33m=\u001b[0m \u001b[0mread_image\u001b[0m\u001b[1;33m(\u001b[0m\u001b[0mpath\u001b[0m\u001b[1;33m)\u001b[0m\u001b[1;33m\u001b[0m\u001b[1;33m\u001b[0m\u001b[0m\n\u001b[0;32m     11\u001b[0m   \u001b[0mtime\u001b[0m\u001b[1;33m.\u001b[0m\u001b[0msleep\u001b[0m\u001b[1;33m(\u001b[0m\u001b[1;36m.5\u001b[0m\u001b[1;33m)\u001b[0m\u001b[1;33m\u001b[0m\u001b[1;33m\u001b[0m\u001b[0m\n\u001b[1;32m---> 12\u001b[1;33m   \u001b[0mbt_prediction\u001b[0m \u001b[1;33m=\u001b[0m \u001b[0mmodel\u001b[0m\u001b[1;33m.\u001b[0m\u001b[0mpredict\u001b[0m\u001b[1;33m(\u001b[0m\u001b[0mimages\u001b[0m\u001b[1;33m)\u001b[0m\u001b[1;33m\u001b[0m\u001b[1;33m\u001b[0m\u001b[0m\n\u001b[0m\u001b[0;32m     13\u001b[0m   \u001b[0mpreds\u001b[0m \u001b[1;33m=\u001b[0m \u001b[0mmodel\u001b[0m\u001b[1;33m.\u001b[0m\u001b[0mpredict_proba\u001b[0m\u001b[1;33m(\u001b[0m\u001b[0mbt_prediction\u001b[0m\u001b[1;33m)\u001b[0m\u001b[1;33m\u001b[0m\u001b[1;33m\u001b[0m\u001b[0m\n\u001b[0;32m     14\u001b[0m   \u001b[1;32mfor\u001b[0m \u001b[0midx\u001b[0m\u001b[1;33m,\u001b[0m \u001b[0manimal\u001b[0m\u001b[1;33m,\u001b[0m \u001b[0mx\u001b[0m \u001b[1;32min\u001b[0m \u001b[0mzip\u001b[0m\u001b[1;33m(\u001b[0m\u001b[0mrange\u001b[0m\u001b[1;33m(\u001b[0m\u001b[1;36m0\u001b[0m\u001b[1;33m,\u001b[0m\u001b[1;36m6\u001b[0m\u001b[1;33m)\u001b[0m\u001b[1;33m,\u001b[0m \u001b[0manimals\u001b[0m \u001b[1;33m,\u001b[0m \u001b[0mpreds\u001b[0m\u001b[1;33m[\u001b[0m\u001b[1;36m0\u001b[0m\u001b[1;33m]\u001b[0m\u001b[1;33m)\u001b[0m\u001b[1;33m:\u001b[0m\u001b[1;33m\u001b[0m\u001b[1;33m\u001b[0m\u001b[0m\n",
      "\u001b[1;32m~\\anaconda3\\lib\\site-packages\\tensorflow\\python\\keras\\engine\\training.py\u001b[0m in \u001b[0;36mpredict\u001b[1;34m(self, x, batch_size, verbose, steps, callbacks, max_queue_size, workers, use_multiprocessing)\u001b[0m\n\u001b[0;32m   1627\u001b[0m           \u001b[1;32mfor\u001b[0m \u001b[0mstep\u001b[0m \u001b[1;32min\u001b[0m \u001b[0mdata_handler\u001b[0m\u001b[1;33m.\u001b[0m\u001b[0msteps\u001b[0m\u001b[1;33m(\u001b[0m\u001b[1;33m)\u001b[0m\u001b[1;33m:\u001b[0m\u001b[1;33m\u001b[0m\u001b[1;33m\u001b[0m\u001b[0m\n\u001b[0;32m   1628\u001b[0m             \u001b[0mcallbacks\u001b[0m\u001b[1;33m.\u001b[0m\u001b[0mon_predict_batch_begin\u001b[0m\u001b[1;33m(\u001b[0m\u001b[0mstep\u001b[0m\u001b[1;33m)\u001b[0m\u001b[1;33m\u001b[0m\u001b[1;33m\u001b[0m\u001b[0m\n\u001b[1;32m-> 1629\u001b[1;33m             \u001b[0mtmp_batch_outputs\u001b[0m \u001b[1;33m=\u001b[0m \u001b[0mself\u001b[0m\u001b[1;33m.\u001b[0m\u001b[0mpredict_function\u001b[0m\u001b[1;33m(\u001b[0m\u001b[0miterator\u001b[0m\u001b[1;33m)\u001b[0m\u001b[1;33m\u001b[0m\u001b[1;33m\u001b[0m\u001b[0m\n\u001b[0m\u001b[0;32m   1630\u001b[0m             \u001b[1;32mif\u001b[0m \u001b[0mdata_handler\u001b[0m\u001b[1;33m.\u001b[0m\u001b[0mshould_sync\u001b[0m\u001b[1;33m:\u001b[0m\u001b[1;33m\u001b[0m\u001b[1;33m\u001b[0m\u001b[0m\n\u001b[0;32m   1631\u001b[0m               \u001b[0mcontext\u001b[0m\u001b[1;33m.\u001b[0m\u001b[0masync_wait\u001b[0m\u001b[1;33m(\u001b[0m\u001b[1;33m)\u001b[0m\u001b[1;33m\u001b[0m\u001b[1;33m\u001b[0m\u001b[0m\n",
      "\u001b[1;32m~\\anaconda3\\lib\\site-packages\\tensorflow\\python\\eager\\def_function.py\u001b[0m in \u001b[0;36m__call__\u001b[1;34m(self, *args, **kwds)\u001b[0m\n\u001b[0;32m    826\u001b[0m     \u001b[0mtracing_count\u001b[0m \u001b[1;33m=\u001b[0m \u001b[0mself\u001b[0m\u001b[1;33m.\u001b[0m\u001b[0mexperimental_get_tracing_count\u001b[0m\u001b[1;33m(\u001b[0m\u001b[1;33m)\u001b[0m\u001b[1;33m\u001b[0m\u001b[1;33m\u001b[0m\u001b[0m\n\u001b[0;32m    827\u001b[0m     \u001b[1;32mwith\u001b[0m \u001b[0mtrace\u001b[0m\u001b[1;33m.\u001b[0m\u001b[0mTrace\u001b[0m\u001b[1;33m(\u001b[0m\u001b[0mself\u001b[0m\u001b[1;33m.\u001b[0m\u001b[0m_name\u001b[0m\u001b[1;33m)\u001b[0m \u001b[1;32mas\u001b[0m \u001b[0mtm\u001b[0m\u001b[1;33m:\u001b[0m\u001b[1;33m\u001b[0m\u001b[1;33m\u001b[0m\u001b[0m\n\u001b[1;32m--> 828\u001b[1;33m       \u001b[0mresult\u001b[0m \u001b[1;33m=\u001b[0m \u001b[0mself\u001b[0m\u001b[1;33m.\u001b[0m\u001b[0m_call\u001b[0m\u001b[1;33m(\u001b[0m\u001b[1;33m*\u001b[0m\u001b[0margs\u001b[0m\u001b[1;33m,\u001b[0m \u001b[1;33m**\u001b[0m\u001b[0mkwds\u001b[0m\u001b[1;33m)\u001b[0m\u001b[1;33m\u001b[0m\u001b[1;33m\u001b[0m\u001b[0m\n\u001b[0m\u001b[0;32m    829\u001b[0m       \u001b[0mcompiler\u001b[0m \u001b[1;33m=\u001b[0m \u001b[1;34m\"xla\"\u001b[0m \u001b[1;32mif\u001b[0m \u001b[0mself\u001b[0m\u001b[1;33m.\u001b[0m\u001b[0m_experimental_compile\u001b[0m \u001b[1;32melse\u001b[0m \u001b[1;34m\"nonXla\"\u001b[0m\u001b[1;33m\u001b[0m\u001b[1;33m\u001b[0m\u001b[0m\n\u001b[0;32m    830\u001b[0m       \u001b[0mnew_tracing_count\u001b[0m \u001b[1;33m=\u001b[0m \u001b[0mself\u001b[0m\u001b[1;33m.\u001b[0m\u001b[0mexperimental_get_tracing_count\u001b[0m\u001b[1;33m(\u001b[0m\u001b[1;33m)\u001b[0m\u001b[1;33m\u001b[0m\u001b[1;33m\u001b[0m\u001b[0m\n",
      "\u001b[1;32m~\\anaconda3\\lib\\site-packages\\tensorflow\\python\\eager\\def_function.py\u001b[0m in \u001b[0;36m_call\u001b[1;34m(self, *args, **kwds)\u001b[0m\n\u001b[0;32m    860\u001b[0m       \u001b[1;31m# In this case we have not created variables on the first call. So we can\u001b[0m\u001b[1;33m\u001b[0m\u001b[1;33m\u001b[0m\u001b[1;33m\u001b[0m\u001b[0m\n\u001b[0;32m    861\u001b[0m       \u001b[1;31m# run the first trace but we should fail if variables are created.\u001b[0m\u001b[1;33m\u001b[0m\u001b[1;33m\u001b[0m\u001b[1;33m\u001b[0m\u001b[0m\n\u001b[1;32m--> 862\u001b[1;33m       \u001b[0mresults\u001b[0m \u001b[1;33m=\u001b[0m \u001b[0mself\u001b[0m\u001b[1;33m.\u001b[0m\u001b[0m_stateful_fn\u001b[0m\u001b[1;33m(\u001b[0m\u001b[1;33m*\u001b[0m\u001b[0margs\u001b[0m\u001b[1;33m,\u001b[0m \u001b[1;33m**\u001b[0m\u001b[0mkwds\u001b[0m\u001b[1;33m)\u001b[0m\u001b[1;33m\u001b[0m\u001b[1;33m\u001b[0m\u001b[0m\n\u001b[0m\u001b[0;32m    863\u001b[0m       \u001b[1;32mif\u001b[0m \u001b[0mself\u001b[0m\u001b[1;33m.\u001b[0m\u001b[0m_created_variables\u001b[0m\u001b[1;33m:\u001b[0m\u001b[1;33m\u001b[0m\u001b[1;33m\u001b[0m\u001b[0m\n\u001b[0;32m    864\u001b[0m         raise ValueError(\"Creating variables on a non-first call to a function\"\n",
      "\u001b[1;32m~\\anaconda3\\lib\\site-packages\\tensorflow\\python\\eager\\function.py\u001b[0m in \u001b[0;36m__call__\u001b[1;34m(self, *args, **kwargs)\u001b[0m\n\u001b[0;32m   2939\u001b[0m     \u001b[1;32mwith\u001b[0m \u001b[0mself\u001b[0m\u001b[1;33m.\u001b[0m\u001b[0m_lock\u001b[0m\u001b[1;33m:\u001b[0m\u001b[1;33m\u001b[0m\u001b[1;33m\u001b[0m\u001b[0m\n\u001b[0;32m   2940\u001b[0m       (graph_function,\n\u001b[1;32m-> 2941\u001b[1;33m        filtered_flat_args) = self._maybe_define_function(args, kwargs)\n\u001b[0m\u001b[0;32m   2942\u001b[0m     return graph_function._call_flat(\n\u001b[0;32m   2943\u001b[0m         filtered_flat_args, captured_inputs=graph_function.captured_inputs)  # pylint: disable=protected-access\n",
      "\u001b[1;32m~\\anaconda3\\lib\\site-packages\\tensorflow\\python\\eager\\function.py\u001b[0m in \u001b[0;36m_maybe_define_function\u001b[1;34m(self, args, kwargs)\u001b[0m\n\u001b[0;32m   3355\u001b[0m               \u001b[0mself\u001b[0m\u001b[1;33m.\u001b[0m\u001b[0minput_signature\u001b[0m \u001b[1;32mis\u001b[0m \u001b[1;32mNone\u001b[0m \u001b[1;32mand\u001b[0m\u001b[1;33m\u001b[0m\u001b[1;33m\u001b[0m\u001b[0m\n\u001b[0;32m   3356\u001b[0m               call_context_key in self._function_cache.missed):\n\u001b[1;32m-> 3357\u001b[1;33m             return self._define_function_with_shape_relaxation(\n\u001b[0m\u001b[0;32m   3358\u001b[0m                 args, kwargs, flat_args, filtered_flat_args, cache_key_context)\n\u001b[0;32m   3359\u001b[0m \u001b[1;33m\u001b[0m\u001b[0m\n",
      "\u001b[1;32m~\\anaconda3\\lib\\site-packages\\tensorflow\\python\\eager\\function.py\u001b[0m in \u001b[0;36m_define_function_with_shape_relaxation\u001b[1;34m(self, args, kwargs, flat_args, filtered_flat_args, cache_key_context)\u001b[0m\n\u001b[0;32m   3277\u001b[0m           expand_composites=True)\n\u001b[0;32m   3278\u001b[0m \u001b[1;33m\u001b[0m\u001b[0m\n\u001b[1;32m-> 3279\u001b[1;33m     graph_function = self._create_graph_function(\n\u001b[0m\u001b[0;32m   3280\u001b[0m         args, kwargs, override_flat_arg_shapes=relaxed_arg_shapes)\n\u001b[0;32m   3281\u001b[0m     \u001b[0mself\u001b[0m\u001b[1;33m.\u001b[0m\u001b[0m_function_cache\u001b[0m\u001b[1;33m.\u001b[0m\u001b[0marg_relaxed\u001b[0m\u001b[1;33m[\u001b[0m\u001b[0mrank_only_cache_key\u001b[0m\u001b[1;33m]\u001b[0m \u001b[1;33m=\u001b[0m \u001b[0mgraph_function\u001b[0m\u001b[1;33m\u001b[0m\u001b[1;33m\u001b[0m\u001b[0m\n",
      "\u001b[1;32m~\\anaconda3\\lib\\site-packages\\tensorflow\\python\\eager\\function.py\u001b[0m in \u001b[0;36m_create_graph_function\u001b[1;34m(self, args, kwargs, override_flat_arg_shapes)\u001b[0m\n\u001b[0;32m   3194\u001b[0m     \u001b[0marg_names\u001b[0m \u001b[1;33m=\u001b[0m \u001b[0mbase_arg_names\u001b[0m \u001b[1;33m+\u001b[0m \u001b[0mmissing_arg_names\u001b[0m\u001b[1;33m\u001b[0m\u001b[1;33m\u001b[0m\u001b[0m\n\u001b[0;32m   3195\u001b[0m     graph_function = ConcreteFunction(\n\u001b[1;32m-> 3196\u001b[1;33m         func_graph_module.func_graph_from_py_func(\n\u001b[0m\u001b[0;32m   3197\u001b[0m             \u001b[0mself\u001b[0m\u001b[1;33m.\u001b[0m\u001b[0m_name\u001b[0m\u001b[1;33m,\u001b[0m\u001b[1;33m\u001b[0m\u001b[1;33m\u001b[0m\u001b[0m\n\u001b[0;32m   3198\u001b[0m             \u001b[0mself\u001b[0m\u001b[1;33m.\u001b[0m\u001b[0m_python_function\u001b[0m\u001b[1;33m,\u001b[0m\u001b[1;33m\u001b[0m\u001b[1;33m\u001b[0m\u001b[0m\n",
      "\u001b[1;32m~\\anaconda3\\lib\\site-packages\\tensorflow\\python\\framework\\func_graph.py\u001b[0m in \u001b[0;36mfunc_graph_from_py_func\u001b[1;34m(name, python_func, args, kwargs, signature, func_graph, autograph, autograph_options, add_control_dependencies, arg_names, op_return_value, collections, capture_by_value, override_flat_arg_shapes)\u001b[0m\n\u001b[0;32m    988\u001b[0m         \u001b[0m_\u001b[0m\u001b[1;33m,\u001b[0m \u001b[0moriginal_func\u001b[0m \u001b[1;33m=\u001b[0m \u001b[0mtf_decorator\u001b[0m\u001b[1;33m.\u001b[0m\u001b[0munwrap\u001b[0m\u001b[1;33m(\u001b[0m\u001b[0mpython_func\u001b[0m\u001b[1;33m)\u001b[0m\u001b[1;33m\u001b[0m\u001b[1;33m\u001b[0m\u001b[0m\n\u001b[0;32m    989\u001b[0m \u001b[1;33m\u001b[0m\u001b[0m\n\u001b[1;32m--> 990\u001b[1;33m       \u001b[0mfunc_outputs\u001b[0m \u001b[1;33m=\u001b[0m \u001b[0mpython_func\u001b[0m\u001b[1;33m(\u001b[0m\u001b[1;33m*\u001b[0m\u001b[0mfunc_args\u001b[0m\u001b[1;33m,\u001b[0m \u001b[1;33m**\u001b[0m\u001b[0mfunc_kwargs\u001b[0m\u001b[1;33m)\u001b[0m\u001b[1;33m\u001b[0m\u001b[1;33m\u001b[0m\u001b[0m\n\u001b[0m\u001b[0;32m    991\u001b[0m \u001b[1;33m\u001b[0m\u001b[0m\n\u001b[0;32m    992\u001b[0m       \u001b[1;31m# invariant: `func_outputs` contains only Tensors, CompositeTensors,\u001b[0m\u001b[1;33m\u001b[0m\u001b[1;33m\u001b[0m\u001b[1;33m\u001b[0m\u001b[0m\n",
      "\u001b[1;32m~\\anaconda3\\lib\\site-packages\\tensorflow\\python\\eager\\def_function.py\u001b[0m in \u001b[0;36mwrapped_fn\u001b[1;34m(*args, **kwds)\u001b[0m\n\u001b[0;32m    632\u001b[0m             \u001b[0mxla_context\u001b[0m\u001b[1;33m.\u001b[0m\u001b[0mExit\u001b[0m\u001b[1;33m(\u001b[0m\u001b[1;33m)\u001b[0m\u001b[1;33m\u001b[0m\u001b[1;33m\u001b[0m\u001b[0m\n\u001b[0;32m    633\u001b[0m         \u001b[1;32melse\u001b[0m\u001b[1;33m:\u001b[0m\u001b[1;33m\u001b[0m\u001b[1;33m\u001b[0m\u001b[0m\n\u001b[1;32m--> 634\u001b[1;33m           \u001b[0mout\u001b[0m \u001b[1;33m=\u001b[0m \u001b[0mweak_wrapped_fn\u001b[0m\u001b[1;33m(\u001b[0m\u001b[1;33m)\u001b[0m\u001b[1;33m.\u001b[0m\u001b[0m__wrapped__\u001b[0m\u001b[1;33m(\u001b[0m\u001b[1;33m*\u001b[0m\u001b[0margs\u001b[0m\u001b[1;33m,\u001b[0m \u001b[1;33m**\u001b[0m\u001b[0mkwds\u001b[0m\u001b[1;33m)\u001b[0m\u001b[1;33m\u001b[0m\u001b[1;33m\u001b[0m\u001b[0m\n\u001b[0m\u001b[0;32m    635\u001b[0m         \u001b[1;32mreturn\u001b[0m \u001b[0mout\u001b[0m\u001b[1;33m\u001b[0m\u001b[1;33m\u001b[0m\u001b[0m\n\u001b[0;32m    636\u001b[0m \u001b[1;33m\u001b[0m\u001b[0m\n",
      "\u001b[1;32m~\\anaconda3\\lib\\site-packages\\tensorflow\\python\\framework\\func_graph.py\u001b[0m in \u001b[0;36mwrapper\u001b[1;34m(*args, **kwargs)\u001b[0m\n\u001b[0;32m    975\u001b[0m           \u001b[1;32mexcept\u001b[0m \u001b[0mException\u001b[0m \u001b[1;32mas\u001b[0m \u001b[0me\u001b[0m\u001b[1;33m:\u001b[0m  \u001b[1;31m# pylint:disable=broad-except\u001b[0m\u001b[1;33m\u001b[0m\u001b[1;33m\u001b[0m\u001b[0m\n\u001b[0;32m    976\u001b[0m             \u001b[1;32mif\u001b[0m \u001b[0mhasattr\u001b[0m\u001b[1;33m(\u001b[0m\u001b[0me\u001b[0m\u001b[1;33m,\u001b[0m \u001b[1;34m\"ag_error_metadata\"\u001b[0m\u001b[1;33m)\u001b[0m\u001b[1;33m:\u001b[0m\u001b[1;33m\u001b[0m\u001b[1;33m\u001b[0m\u001b[0m\n\u001b[1;32m--> 977\u001b[1;33m               \u001b[1;32mraise\u001b[0m \u001b[0me\u001b[0m\u001b[1;33m.\u001b[0m\u001b[0mag_error_metadata\u001b[0m\u001b[1;33m.\u001b[0m\u001b[0mto_exception\u001b[0m\u001b[1;33m(\u001b[0m\u001b[0me\u001b[0m\u001b[1;33m)\u001b[0m\u001b[1;33m\u001b[0m\u001b[1;33m\u001b[0m\u001b[0m\n\u001b[0m\u001b[0;32m    978\u001b[0m             \u001b[1;32melse\u001b[0m\u001b[1;33m:\u001b[0m\u001b[1;33m\u001b[0m\u001b[1;33m\u001b[0m\u001b[0m\n\u001b[0;32m    979\u001b[0m               \u001b[1;32mraise\u001b[0m\u001b[1;33m\u001b[0m\u001b[1;33m\u001b[0m\u001b[0m\n",
      "\u001b[1;31mValueError\u001b[0m: in user code:\n\n    C:\\Users\\marta\\anaconda3\\lib\\site-packages\\tensorflow\\python\\keras\\engine\\training.py:1478 predict_function  *\n        return step_function(self, iterator)\n    C:\\Users\\marta\\anaconda3\\lib\\site-packages\\tensorflow\\python\\keras\\engine\\training.py:1468 step_function  **\n        outputs = model.distribute_strategy.run(run_step, args=(data,))\n    C:\\Users\\marta\\anaconda3\\lib\\site-packages\\tensorflow\\python\\distribute\\distribute_lib.py:1259 run\n        return self._extended.call_for_each_replica(fn, args=args, kwargs=kwargs)\n    C:\\Users\\marta\\anaconda3\\lib\\site-packages\\tensorflow\\python\\distribute\\distribute_lib.py:2730 call_for_each_replica\n        return self._call_for_each_replica(fn, args, kwargs)\n    C:\\Users\\marta\\anaconda3\\lib\\site-packages\\tensorflow\\python\\distribute\\distribute_lib.py:3417 _call_for_each_replica\n        return fn(*args, **kwargs)\n    C:\\Users\\marta\\anaconda3\\lib\\site-packages\\tensorflow\\python\\keras\\engine\\training.py:1461 run_step  **\n        outputs = model.predict_step(data)\n    C:\\Users\\marta\\anaconda3\\lib\\site-packages\\tensorflow\\python\\keras\\engine\\training.py:1434 predict_step\n        return self(x, training=False)\n    C:\\Users\\marta\\anaconda3\\lib\\site-packages\\tensorflow\\python\\keras\\engine\\base_layer.py:1012 __call__\n        outputs = call_fn(inputs, *args, **kwargs)\n    C:\\Users\\marta\\anaconda3\\lib\\site-packages\\tensorflow\\python\\keras\\engine\\sequential.py:375 call\n        return super(Sequential, self).call(inputs, training=training, mask=mask)\n    C:\\Users\\marta\\anaconda3\\lib\\site-packages\\tensorflow\\python\\keras\\engine\\functional.py:424 call\n        return self._run_internal_graph(\n    C:\\Users\\marta\\anaconda3\\lib\\site-packages\\tensorflow\\python\\keras\\engine\\functional.py:560 _run_internal_graph\n        outputs = node.layer(*args, **kwargs)\n    C:\\Users\\marta\\anaconda3\\lib\\site-packages\\tensorflow\\python\\keras\\engine\\base_layer.py:998 __call__\n        input_spec.assert_input_compatibility(self.input_spec, inputs, self.name)\n    C:\\Users\\marta\\anaconda3\\lib\\site-packages\\tensorflow\\python\\keras\\engine\\input_spec.py:255 assert_input_compatibility\n        raise ValueError(\n\n    ValueError: Input 0 of layer dense_4 is incompatible with the layer: expected axis -1 of input shape to have value 161312 but received input with shape (None, 394272)\n"
     ]
    }
   ],
   "source": [
    "def read_image(file_path):\n",
    "   print('[INFO] loading and preprocessing image…') \n",
    "   image = load_img(file_path, target_size=(224, 224)) \n",
    "   image = img_to_array(image) \n",
    "   image = np.expand_dims(image, axis=0)\n",
    "   image /= 255. \n",
    "   return image\n",
    "def test_single_image(path):\n",
    "  animals = ['no mask', 'mask']\n",
    "  images = read_image(path)\n",
    "  time.sleep(.5)\n",
    "  bt_prediction = model.predict(images) \n",
    "  preds = model.predict_proba(bt_prediction)\n",
    "  for idx, animal, x in zip(range(0,6), animals , preds[0]):\n",
    "   print('ID: {}, Label: {} {}%'.format(idx, animal, round(x*100,2) ))\n",
    "  print('Final Decision:')\n",
    "  time.sleep(.5)\n",
    "  for x in range(3):\n",
    "   print('.'*(x+1))\n",
    "   time.sleep(.2)\n",
    "  class_predicted = model.predict_classes(bt_prediction)\n",
    "  class_dictionary = generator_top.class_indices \n",
    "  inv_map = {v: k for k, v in class_dictionary.items()} \n",
    "  print('ID: {}, Label: {}'.format(class_predicted[0],  inv_map[class_predicted[0]])) \n",
    "  return load_img(path)\n",
    "path = r\"C:\\Users\\marta\\Documents\\Big data\\NOVA IMS\\20202021\\2nd Semester\\Deep learning\\Project\\test\\masks\\Image1275.jpg\"\n",
    "test_single_image(path)"
   ]
  },
  {
   "cell_type": "markdown",
   "metadata": {
    "id": "InD-J_p3V7nU"
   },
   "source": [
    "# Next Steps : improving the NN"
   ]
  },
  {
   "cell_type": "code",
   "execution_count": null,
   "metadata": {
    "id": "EW6c7zH_pXEg"
   },
   "outputs": [],
   "source": [
    "### Code for DATA AUGMENTATION\n",
    "\n",
    "train_datagen = ImageDataGenerator(rescale = 1./255,\n",
    "                                   shear_range = 0.2,\n",
    "                                   zoom_range = 0.2,\n",
    "                                   horizontal_flip = True)\n",
    "# test set only rescaled\n",
    "test_datagen = ImageDataGenerator(rescale = 1./255)"
   ]
  },
  {
   "cell_type": "code",
   "execution_count": null,
   "metadata": {
    "id": "j4izwvWulNRk"
   },
   "outputs": [],
   "source": [
    "# Set callbacks to analyze the best number of epochs | Try 25,50, and 100\n",
    "\n",
    "  earlystopping = callbacks.EarlyStopping(monitor =\"val_loss\",  \n",
    "                                          mode =\"min\", patience = 5,  \n",
    "                                          restore_best_weights = True) \n",
    "  \n",
    "  history = model.fit(partial_images, partial_labels, batch_size = 128,  \n",
    "                      epochs = 25, validation_data =(X_val, y_val),  \n",
    "                      callbacks =[earlystopping]) "
   ]
  },
  {
   "cell_type": "code",
   "execution_count": null,
   "metadata": {
    "id": "-zUbCNS2joBT"
   },
   "outputs": [],
   "source": [
    "# Train the model for XXXXXX epochs\n",
    "#model.fit_generator(train_iterator, steps_per_epoch=len(train_iterator), epochs=XXXXXXX)"
   ]
  },
  {
   "cell_type": "code",
   "execution_count": null,
   "metadata": {
    "id": "JllaZG-DjCFv"
   },
   "outputs": [],
   "source": [
    "# Evaluate the model\n",
    "_, acc = model.evaluate_generator(test_iterator, steps=len(test_iterator), verbose=0)\n",
    "print('Test Accuracy: %.3f' % (acc * 100))"
   ]
  },
  {
   "cell_type": "markdown",
   "metadata": {
    "id": "Af3cjs7aoxsP"
   },
   "source": [
    "### 4. Model assessment"
   ]
  },
  {
   "cell_type": "code",
   "execution_count": null,
   "metadata": {
    "id": "CGQ9yM3al8nh"
   },
   "outputs": [],
   "source": []
  },
  {
   "cell_type": "code",
   "execution_count": null,
   "metadata": {
    "id": "TlRU4Wj9l8x-"
   },
   "outputs": [],
   "source": []
  },
  {
   "cell_type": "markdown",
   "metadata": {
    "id": "NMAoTI6do7Ht"
   },
   "source": [
    "### 5. Deployment"
   ]
  },
  {
   "cell_type": "code",
   "execution_count": null,
   "metadata": {
    "id": "Fy0Q2hcDo-Qv"
   },
   "outputs": [],
   "source": []
  },
  {
   "cell_type": "markdown",
   "metadata": {
    "id": "3pBPw1RvmGgf"
   },
   "source": [
    "Example\n",
    "https://machinelearningmastery.com/how-to-perform-face-detection-with-classical-and-deep-learning-methods-in-python-with-keras/\n",
    "\n",
    "Problems websites\n",
    "\n",
    "https://colab.research.google.com/github/google/eng-edu/blob/master/ml/pc/exercises/image_classification_part1.ipynb\n",
    "\n",
    "https://github.com/python-pillow/Pillow/issues/1006"
   ]
  }
 ],
 "metadata": {
  "colab": {
   "collapsed_sections": [],
   "name": "Project DL.ipynb",
   "provenance": [],
   "toc_visible": true
  },
  "kernelspec": {
   "display_name": "Python 3",
   "language": "python",
   "name": "python3"
  },
  "language_info": {
   "codemirror_mode": {
    "name": "ipython",
    "version": 3
   },
   "file_extension": ".py",
   "mimetype": "text/x-python",
   "name": "python",
   "nbconvert_exporter": "python",
   "pygments_lexer": "ipython3",
   "version": "3.8.3"
  }
 },
 "nbformat": 4,
 "nbformat_minor": 1
}
